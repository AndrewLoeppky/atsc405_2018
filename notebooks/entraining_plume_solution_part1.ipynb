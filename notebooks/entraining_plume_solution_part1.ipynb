{
 "cells": [
  {
   "cell_type": "markdown",
   "metadata": {
    "toc": true
   },
   "source": [
    "<h1>Table of Contents<span class=\"tocSkip\"></span></h1>\n",
    "<div class=\"toc\" style=\"margin-top: 1em;\"><ul class=\"toc-item\"><li><span><a href=\"#Modeling-an-entraining-cloud-updraft\" data-toc-modified-id=\"Modeling-an-entraining-cloud-updraft-1\"><span class=\"toc-item-num\">1&nbsp;&nbsp;</span>Modeling an entraining cloud updraft</a></span><ul class=\"toc-item\"><li><span><a href=\"#Find-the-derivatives-wrt-time-of-each-of-the-4-variables\" data-toc-modified-id=\"Find-the-derivatives-wrt-time-of-each-of-the-4-variables-1.1\"><span class=\"toc-item-num\">1.1&nbsp;&nbsp;</span>Find the derivatives wrt time of each of the 4 variables</a></span></li><li><span><a href=\"#Find-the-buoyancy-from-the-cloud-and-environment-$\\theta_e$-and-$r_T$\" data-toc-modified-id=\"Find-the-buoyancy-from-the-cloud-and-environment-$\\theta_e$-and-$r_T$-1.2\"><span class=\"toc-item-num\">1.2&nbsp;&nbsp;</span>Find the buoyancy from the cloud and environment $\\theta_e$ and $r_T$</a></span></li><li><span><a href=\"#Integrator\" data-toc-modified-id=\"Integrator-1.3\"><span class=\"toc-item-num\">1.3&nbsp;&nbsp;</span>Integrator</a></span></li><li><span><a href=\"#Read-in-a-sounding-to-set-the-environment\" data-toc-modified-id=\"Read-in-a-sounding-to-set-the-environment-1.4\"><span class=\"toc-item-num\">1.4&nbsp;&nbsp;</span>Read in a sounding to set the environment</a></span></li><li><span><a href=\"#Do-the-integration\" data-toc-modified-id=\"Do-the-integration-1.5\"><span class=\"toc-item-num\">1.5&nbsp;&nbsp;</span>Do the integration</a></span></li></ul></li><li><span><a href=\"#Plot-vs.-pressure\" data-toc-modified-id=\"Plot-vs.-pressure-2\"><span class=\"toc-item-num\">2&nbsp;&nbsp;</span>Plot vs. pressure</a></span></li></ul></div>"
   ]
  },
  {
   "cell_type": "markdown",
   "metadata": {},
   "source": [
    "# Modeling an entraining cloud updraft\n",
    "\n",
    "This notebook shows how to calculate the time evolution of four variables:\n",
    "\n",
    "\\[velocity, height, $\\theta_{ecld}$, $r_{Tcld}$ \\]\n",
    "\n",
    "in a rising cloud"
   ]
  },
  {
   "cell_type": "code",
   "execution_count": 1,
   "metadata": {},
   "outputs": [],
   "source": [
    "\"\"\"\n",
    "model a bulk entraining plume with constant entrainment rate\n",
    "\"\"\"\n",
    "import numpy as np\n",
    "import pandas as pd\n",
    "from pprint import pformat\n",
    "from a405.thermo.constants import constants as c\n",
    "from a405.thermo.thermlib import find_Tmoist,find_thetaep,find_rsat,tinvert_thetae\n",
    "from scipy.interpolate import interp1d\n",
    "from a405.soundings.wyominglib import write_soundings, read_soundings\n",
    "import json\n",
    "\n",
    "\n",
    "from scipy.integrate import ode\n",
    "import matplotlib.pyplot as plt\n",
    "from a405.skewT.nudge import nudge"
   ]
  },
  {
   "cell_type": "markdown",
   "metadata": {},
   "source": [
    "## Find the derivatives wrt time of each of the 4 variables\n",
    "\n",
    "See [entrain.pdf](http://clouds.eos.ubc.ca/~phil/courses/atsc405/docs/entrain.pdf)"
   ]
  },
  {
   "cell_type": "code",
   "execution_count": 2,
   "metadata": {},
   "outputs": [],
   "source": [
    "def derivs(t, y, entrain_rate, interpTenv, interpTdEnv, interpPress):\n",
    "    \"\"\"Function that computes derivative vector for ode integrator\n",
    "       see http://clouds.eos.ubc.ca/~phil/courses/atsc405/docs/entrain.pdf for equations\n",
    "\n",
    "    Parameters\n",
    "    ----------\n",
    "    \n",
    "    t: float\n",
    "       time (s)\n",
    "    y: vector\n",
    "       4-vector containing wvel (m/s), height (m), thetae (K), rT (kg/kg)\n",
    "    entrain_rate: float\n",
    "                  1/m dm/dt (s-1)\n",
    "    interpTenv: func\n",
    "                interp1d function for environmental temperature T(z) \n",
    "    interpTdEnv: func\n",
    "                interp1d function for environmental dewpoint temperature Td(z)\n",
    "    interpPress: func\n",
    "                interp1d function for presusure  p(z)\n",
    "\n",
    "    Returns\n",
    "    -------\n",
    "\n",
    "    yp: vector\n",
    "       4-vector containing time derivatives of wvel (m/s^2), height (m/s), thetae (K/s), rT (kg/kg/s)\n",
    "    \"\"\"\n",
    "    yp = np.zeros((4,1),dtype=np.float)\n",
    "    velocity = y[0]\n",
    "    height = y[1]\n",
    "    thetae_cloud = y[2]\n",
    "    rT_cloud = y[3]\n",
    "    #yp[0] is the acceleration, in this case the buoyancy \n",
    "    yp[0] = calcBuoy(height, thetae_cloud, interpTenv, interpTdEnv, interpPress)\n",
    "    press = interpPress(height)*100. #Pa\n",
    "    Tdenv = interpTdEnv(height) + c.Tc #K\n",
    "    Tenv = interpTenv(height) + c.Tc #K\n",
    "    rTenv = find_rsat(Tdenv, press) #kg/kg\n",
    "    thetaeEnv = find_thetaep(Tdenv, Tenv, press)\n",
    "    #yp[1] is the rate of change of height\n",
    "    yp[1] = velocity\n",
    "    #yp[2] is the rate of change of thetae_cloud\n",
    "    yp[2] = entrain_rate*(thetaeEnv - thetae_cloud)\n",
    "    #yp[3] is the rate of change of rT_cloud\n",
    "    yp[3] = entrain_rate*(rTenv - rT_cloud)\n",
    "    return yp"
   ]
  },
  {
   "cell_type": "markdown",
   "metadata": {},
   "source": [
    "## Find the buoyancy from the cloud and environment $\\theta_e$ and $r_T$"
   ]
  },
  {
   "cell_type": "code",
   "execution_count": 3,
   "metadata": {},
   "outputs": [],
   "source": [
    "def calcBuoy(height, thetae0, interpTenv, interpTdEnv, interpPress):\n",
    "    \"\"\"function to calculate buoyant acceleration for an ascending saturated parcel\n",
    "       this version neglects liquid water loading\n",
    "    \n",
    "    Parameters\n",
    "    ----------\n",
    "    \n",
    "    height: float\n",
    "            parcel height (m)\n",
    "    thetae0: float\n",
    "            parcel thetae (K)\n",
    "\n",
    "    interpTenv: func\n",
    "                interp1d function for environmental temperature T(z) \n",
    "    interpTdEnv: func\n",
    "                interp1d function for environmental dewpoint temperature Td(z)\n",
    "    interpPress: func\n",
    "                interp1d function for presusure  p(z)\n",
    "\n",
    "    Returns\n",
    "    -------\n",
    "\n",
    "    buoy: float\n",
    "          buoyancy (m/s/s)\n",
    "    \"\"\"\n",
    "    #input: height (m), thetae0 (K), plus function handles for\n",
    "    #T,Td, press soundings\n",
    "    #output: Bout = buoyant acceleration in m/s^2\n",
    "    #neglect liquid water loading in the virtual temperature\n",
    "    \n",
    "    press=interpPress(height)*100.#%Pa\n",
    "    Tcloud=find_Tmoist(thetae0,press) #K\n",
    "    rvcloud=find_rsat(Tcloud,press); #kg/kg\n",
    "    Tvcloud=Tcloud*(1. + c.eps*rvcloud)\n",
    "    Tenv=interpTenv(height) + c.Tc\n",
    "    Tdenv=interpTdEnv(height) + c.Tc\n",
    "    rvenv=find_rsat(Tdenv,press); #kg/kg\n",
    "    Tvenv=Tenv*(1. + c.eps*rvenv)\n",
    "    TvDiff=Tvcloud - Tvenv\n",
    "    buoy = c.g0*(TvDiff/Tvenv)\n",
    "    return buoy\n",
    "\n"
   ]
  },
  {
   "cell_type": "markdown",
   "metadata": {},
   "source": [
    "## Integrator \n",
    "\n",
    "Use http://docs.scipy.org/doc/scipy/reference/generated/scipy.integrate.ode.html to integrate our system of 4 odes "
   ]
  },
  {
   "cell_type": "code",
   "execution_count": 4,
   "metadata": {},
   "outputs": [],
   "source": [
    "def integ_entrain(df_sounding,entrain_rate):\n",
    "    \"\"\"integrate an ascending parcel given a constant entrainment rate\n",
    "       this version hardwired to start parcel at 800 hPa with cloud base\n",
    "       values of environment at 900 hPa\n",
    "\n",
    "    Parameters\n",
    "    ----------\n",
    "\n",
    "    df_sounding: pandas dataframe \n",
    "               : cloumns are temperature, dewpoint, height, press\n",
    "\n",
    "    entrain_rate: float\n",
    "                  1/m dm/dt (s-1)\n",
    "\n",
    "    Returns\n",
    "    -------\n",
    "\n",
    "    df_out: dataframe\n",
    "          dataframe containing wvel (m/s) ,cloud_height (m) , thetae (K), rT (kg/kg) for assending parcel\n",
    "\n",
    "   interpPress: func\n",
    "              interp1d function for presusure  p(z) (used for plotting)\n",
    "    \"\"\"\n",
    "    press = df_sounding['pres'].values\n",
    "    height = df_sounding['hght'].values\n",
    "    temp = df_sounding['temp'].values\n",
    "    dewpoint = df_sounding['dwpt'].values\n",
    "    envHeight= nudge(height)\n",
    "\n",
    "    interpTenv = interp1d(envHeight,temp)\n",
    "    interpTdEnv = interp1d(envHeight,dewpoint)\n",
    "    interpPress = interp1d(envHeight,press)\n",
    "    #\n",
    "    # call this cloudbase\n",
    "    #\n",
    "    p900_level = len(press) - np.searchsorted(press[::-1],900.)\n",
    "    thetaeVal=find_thetaep(dewpoint[p900_level] + c.Tc,temp[p900_level] + c.Tc,press[p900_level]*100.)\n",
    "    rTcloud = find_rsat(dewpoint[p900_level] + c.Tc, press[p900_level]*100.)\n",
    "    #\n",
    "    # start parcel here\n",
    "    #\n",
    "    p800_level = len(press) - np.searchsorted(press[::-1],800.)\n",
    "    height_800=height[p800_level]\n",
    "    winit = 0.5 #initial velocity (m/s)\n",
    "    yinit = [winit, height_800, thetaeVal, rTcloud]  \n",
    "    tinit = 0  #seconds\n",
    "    tfin = 2500  #seconds\n",
    "    dt = 10   #seconds\n",
    "\n",
    "    #want to integrate derivs using dopr15 runge kutta described at\n",
    "    # http://docs.scipy.org/doc/scipy/reference/generated/scipy.integrate.ode.html\n",
    "    #\n",
    "    r = ode(derivs).set_integrator('dopri5')\n",
    "    r.set_f_params(entrain_rate, interpTenv, interpTdEnv, interpPress)\n",
    "    r.set_initial_value(yinit, tinit)\n",
    "    \n",
    "    #the while loop below  integrates every dt seconds\n",
    "    #we stop tracking the parcel when the time runs out, or if the parcel stops moving/is desecnding\n",
    "    #\n",
    "    var_out = []\n",
    "    time_out =[]\n",
    "    while r.successful() and r.t < tfin and r.y[0] > 0:\n",
    "        #find y at the next time step\n",
    "        #(r.integrate(t) updates the fields r.y and r.t so that r.y = integral of derivs(t) and r.t = time \n",
    "        #where derivs is a vector with the variables to be integrated\n",
    "        #\n",
    "        # move ahead by dt\n",
    "        #\n",
    "        r.integrate(r.t+dt)\n",
    "        #\n",
    "        # stop if there is negative vertical velocity\n",
    "        #\n",
    "        if r.y[0] <= 0:\n",
    "            break\n",
    "        #\n",
    "        #save values for dataframe\n",
    "        #\n",
    "        var_out.append(r.y)\n",
    "        time_out.append(r.t)\n",
    "    #\n",
    "    # convert the output into a datafram\n",
    "    #\n",
    "    colnames=['wvel','cloud_height','thetae_cloud','rT_cloud']\n",
    "    df_out=pd.DataFrame.from_records(var_out,columns=colnames)\n",
    "    df_out['time'] = time_out\n",
    "    return df_out,interpPress\n",
    "\n"
   ]
  },
  {
   "cell_type": "markdown",
   "metadata": {},
   "source": [
    "## Read in a sounding to set the environment"
   ]
  },
  {
   "cell_type": "code",
   "execution_count": 5,
   "metadata": {},
   "outputs": [],
   "source": [
    "def get_sounding(get_data=True,soundingdir='littlerock',soundingfile='littlerock.csv',\n",
    "                 metafile='littlerock.json',values=None,the_time=None):\n",
    "    \"\"\"\n",
    "    Parameters\n",
    "    ----------\n",
    "    \n",
    "    get_data: bool\n",
    "        set to False to read from an existing soundingfile\n",
    "    soundingdir: string\n",
    "        name of folder for retrieved soundings\n",
    "    sondingfile: string\n",
    "        name of csv file that holds sounding for this run\n",
    "    metafile:  string\n",
    "        name of json file that holds sounding metadata for this run\n",
    "    values:  dict\n",
    "        dictionary containing parameters needed by a405.soundings.wyominglib.write_soundings\n",
    "    the_time: tuple\n",
    "        (year, month, day, hour) tuple for sounding for current run\n",
    "        \n",
    "    Returns\n",
    "    -------\n",
    "    \n",
    "    sounding: Dataframe\n",
    "       pandas dataframe with sounding columns\n",
    "    attributes: dict\n",
    "       dictionary with sounding metadata\n",
    "    \"\"\"\n",
    "    if get_data:\n",
    "        if values is None:\n",
    "            values=dict(region='naconf',year='2012',month='7',start='0100',\n",
    "                        stop='3000',station='72340')\n",
    "            the_time=(2012,7,17,0)\n",
    "        write_soundings(values, soundingdir)\n",
    "        soundings= read_soundings(soundingdir)\n",
    "        sounding=soundings['sounding_dict'][the_time]\n",
    "        sounding.to_csv(soundingfile)\n",
    "        title_string=soundings['attributes']['header']\n",
    "        index=title_string.find(' Observations at')\n",
    "        location=title_string[:index]\n",
    "        print(f'location: {location}')\n",
    "        units=soundings['attributes']['units'].split(';')\n",
    "        units_dict={}\n",
    "        for count,var in enumerate(sounding.columns[1:]):\n",
    "            units_dict[var]=units[count]\n",
    "        soundings['attributes']['location']=location\n",
    "        soundings['attributes']['units']=units\n",
    "        soundings['attributes']['time']=the_time\n",
    "        soundings['attributes']['history']='written by entraining_plume notebook'\n",
    "        with open(metafile,'w') as outfile:\n",
    "            json.dump(soundings['attributes'],outfile,indent=4)\n",
    "        attributes=soundings['attributes']\n",
    "    else:\n",
    "        sounding = pd.read_csv(soundingfile)\n",
    "        with open(metafile,'r') as infile:\n",
    "            attributes=json.load(infile)\n",
    "    return sounding,attributes\n",
    "\n"
   ]
  },
  {
   "cell_type": "markdown",
   "metadata": {},
   "source": [
    "## Do the integration"
   ]
  },
  {
   "cell_type": "code",
   "execution_count": 6,
   "metadata": {},
   "outputs": [],
   "source": [
    "df_sounding,attributes = get_sounding(get_data=False)"
   ]
  },
  {
   "cell_type": "code",
   "execution_count": 7,
   "metadata": {},
   "outputs": [
    {
     "name": "stderr",
     "output_type": "stream",
     "text": [
      "/Users/phil/repos/atsc405_2018/a405/thermo/thermlib.py:441: RuntimeWarning: invalid value encountered in log\n",
      "  s = cp * np.log(T) - c.Rd * np.log(pd) + lv * rv / T - vapor_term\n"
     ]
    }
   ],
   "source": [
    "entrain_rate = 2.e-4\n",
    "df_result, interpPress=integ_entrain(df_sounding,entrain_rate)"
   ]
  },
  {
   "cell_type": "code",
   "execution_count": 8,
   "metadata": {},
   "outputs": [
    {
     "data": {
      "text/plain": [
       "Index(['wvel', 'cloud_height', 'thetae_cloud', 'rT_cloud', 'time'], dtype='object')"
      ]
     },
     "execution_count": 8,
     "metadata": {},
     "output_type": "execute_result"
    }
   ],
   "source": [
    "df_result.columns"
   ]
  },
  {
   "cell_type": "code",
   "execution_count": 27,
   "metadata": {},
   "outputs": [
    {
     "data": {
      "image/png": "[encoded data removed]",
      "text/plain": [
       "<matplotlib.figure.Figure at 0x1211c3470>"
      ]
     },
     "metadata": {},
     "output_type": "display_data"
    }
   ],
   "source": [
    "ax=df_result.plot('thetae_cloud','cloud_height');\n",
    "ax.grid(True);"
   ]
  },
  {
   "cell_type": "markdown",
   "metadata": {},
   "source": [
    "# Plot vs. pressure\n",
    "\n",
    "Add the interpolated pressure to the dataframe"
   ]
  },
  {
   "cell_type": "code",
   "execution_count": 13,
   "metadata": {},
   "outputs": [],
   "source": [
    "cloud_press = interpPress(df_result['cloud_height'].values)\n",
    "df_result['cloud_press']=cloud_press"
   ]
  },
  {
   "cell_type": "code",
   "execution_count": 26,
   "metadata": {},
   "outputs": [
    {
     "data": {
      "image/png": "[encoded data removed]",
      "text/plain": [
       "<matplotlib.figure.Figure at 0x120fe8518>"
      ]
     },
     "metadata": {},
     "output_type": "display_data"
    }
   ],
   "source": [
    "import matplotlib.ticker as  ticks\n",
    "\n",
    "ax = df_result.plot('thetae_cloud','cloud_press',logy=True,legend=False)\n",
    "ax.invert_yaxis()\n",
    "ax.grid(True, which='both')\n",
    "\n"
   ]
  },
  {
   "cell_type": "code",
   "execution_count": null,
   "metadata": {},
   "outputs": [],
   "source": []
  }
 ],
 "metadata": {
  "kernelspec": {
   "display_name": "Python 3",
   "language": "python",
   "name": "python3"
  },
  "language_info": {
   "codemirror_mode": {
    "name": "ipython",
    "version": 3
   },
   "file_extension": ".py",
   "mimetype": "text/x-python",
   "name": "python",
   "nbconvert_exporter": "python",
   "pygments_lexer": "ipython3",
   "version": "3.6.4"
  },
  "toc": {
   "nav_menu": {},
   "number_sections": true,
   "sideBar": false,
   "skip_h1_title": false,
   "toc_cell": true,
   "toc_position": {},
   "toc_section_display": "block",
   "toc_window_display": false
  }
 },
 "nbformat": 4,
 "nbformat_minor": 2
}
