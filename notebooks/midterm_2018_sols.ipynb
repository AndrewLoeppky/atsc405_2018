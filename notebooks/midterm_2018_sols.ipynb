{
 "cells": [
  {
   "cell_type": "markdown",
   "metadata": {
    "toc": true
   },
   "source": [
    "<h1>Table of Contents<span class=\"tocSkip\"></span></h1>\n",
    "<div class=\"toc\" style=\"margin-top: 1em;\"><ul class=\"toc-item\"><li><span><a href=\"#Del-Rio-CAPE-and-CIN-(15-points)\" data-toc-modified-id=\"Del-Rio-CAPE-and-CIN-(15-points)-1\"><span class=\"toc-item-num\">1&nbsp;&nbsp;</span>Del Rio CAPE and CIN (15 points)</a></span><ul class=\"toc-item\"><li><span><a href=\"#$r_l$-liquid-answer\" data-toc-modified-id=\"$r_l$-liquid-answer-1.1\"><span class=\"toc-item-num\">1.1&nbsp;&nbsp;</span>$r_l$ liquid answer</a></span></li><li><span><a href=\"#LCL-answer\" data-toc-modified-id=\"LCL-answer-1.2\"><span class=\"toc-item-num\">1.2&nbsp;&nbsp;</span>LCL answer</a></span></li></ul></li><li><span><a href=\"#Cooling-problem-(12-points)\" data-toc-modified-id=\"Cooling-problem-(12-points)-2\"><span class=\"toc-item-num\">2&nbsp;&nbsp;</span>Cooling problem (12 points)</a></span><ul class=\"toc-item\"><li><span><a href=\"#answer\" data-toc-modified-id=\"answer-2.1\"><span class=\"toc-item-num\">2.1&nbsp;&nbsp;</span>answer</a></span></li></ul></li><li><span><a href=\"#Mixing-problem\" data-toc-modified-id=\"Mixing-problem-3\"><span class=\"toc-item-num\">3&nbsp;&nbsp;</span>Mixing problem</a></span><ul class=\"toc-item\"><li><span><a href=\"#Answer\" data-toc-modified-id=\"Answer-3.1\"><span class=\"toc-item-num\">3.1&nbsp;&nbsp;</span>Answer</a></span></li></ul></li></ul></div>"
   ]
  },
  {
   "cell_type": "code",
   "execution_count": 1,
   "metadata": {},
   "outputs": [],
   "source": [
    "import numpy as np\n",
    "from matplotlib import pyplot as plt\n",
    "#!conda install -y pytz"
   ]
  },
  {
   "cell_type": "code",
   "execution_count": 2,
   "metadata": {},
   "outputs": [
    {
     "ename": "ImportError",
     "evalue": "cannot import name 'findLCL'",
     "output_type": "error",
     "traceback": [
      "\u001b[0;31m---------------------------------------------------------------------------\u001b[0m",
      "\u001b[0;31mImportError\u001b[0m                               Traceback (most recent call last)",
      "\u001b[0;32m<ipython-input-2-e8cb4dec37e4>\u001b[0m in \u001b[0;36m<module>\u001b[0;34m()\u001b[0m\n\u001b[1;32m      1\u001b[0m \u001b[0;32mfrom\u001b[0m \u001b[0ma405\u001b[0m\u001b[0;34m.\u001b[0m\u001b[0msoundings\u001b[0m\u001b[0;34m.\u001b[0m\u001b[0mwyominglib\u001b[0m \u001b[0;32mimport\u001b[0m \u001b[0mread_soundings\u001b[0m\u001b[0;34m\u001b[0m\u001b[0m\n\u001b[1;32m      2\u001b[0m \u001b[0;32mfrom\u001b[0m \u001b[0ma405\u001b[0m\u001b[0;34m.\u001b[0m\u001b[0mskewT\u001b[0m\u001b[0;34m.\u001b[0m\u001b[0mskewlib\u001b[0m \u001b[0;32mimport\u001b[0m \u001b[0mmakeSkewDry\u001b[0m\u001b[0;34m\u001b[0m\u001b[0m\n\u001b[0;32m----> 3\u001b[0;31m \u001b[0;32mfrom\u001b[0m \u001b[0ma405\u001b[0m\u001b[0;34m.\u001b[0m\u001b[0mthermo\u001b[0m\u001b[0;34m.\u001b[0m\u001b[0mthermlib\u001b[0m \u001b[0;32mimport\u001b[0m \u001b[0mconvertTempToSkew\u001b[0m\u001b[0;34m,\u001b[0m \u001b[0mfindLCL\u001b[0m\u001b[0;34m\u001b[0m\u001b[0m\n\u001b[0m\u001b[1;32m      4\u001b[0m \u001b[0;32mimport\u001b[0m \u001b[0mdatetime\u001b[0m\u001b[0;34m\u001b[0m\u001b[0m\n\u001b[1;32m      5\u001b[0m \u001b[0;32mimport\u001b[0m \u001b[0mpytz\u001b[0m\u001b[0;34m\u001b[0m\u001b[0m\n",
      "\u001b[0;31mImportError\u001b[0m: cannot import name 'findLCL'"
     ]
    }
   ],
   "source": [
    "from a405.soundings.wyominglib import read_soundings\n",
    "from a405.skewT.skewlib import makeSkewDry\n",
    "from a405.thermo.thermlib import convertTempToSkew, findLCL\n",
    "import datetime\n",
    "import pytz\n",
    "\n",
    "soundings= read_soundings('delrio')\n",
    "print(soundings.keys())\n",
    "print(soundings['sounding_dict'].keys())"
   ]
  },
  {
   "cell_type": "code",
   "execution_count": null,
   "metadata": {},
   "outputs": [],
   "source": [
    "the_sounding=soundings['sounding_dict'][(2017,5,10,0)]"
   ]
  },
  {
   "cell_type": "markdown",
   "metadata": {},
   "source": [
    "#  Del Rio CAPE and CIN (15 points)\n",
    "\n",
    "The next page shows a temperature-dewpoint sounding for Del Rio,\n",
    "Texas on May 10, 2017.\n",
    "\n",
    "-   (4 points) On the sounding clearly show the following, using air\n",
    "    from the surface at 1000 hPa as the cloudy updraft. For each\n",
    "    quantity, list the mks units.\n",
    "\n",
    "    -   LCL\n",
    "\n",
    "    -   CAPE\n",
    "\n",
    "    -   CIN\n",
    "\n",
    "    -   LNB\n",
    "\n",
    "-   (2 points) Use the tephigram to find the total liquid water\n",
    "    mixing ratio $r_l$ (in g/kg) condensed in your parcel in its\n",
    "    ascent from the LCL to the LNB.\n",
    "\n",
    "-   (9 points) Show using pseudocode (or python or matlab or another\n",
    "    computer language) how you would calculate the maximum vertical\n",
    "    velocity of ascending adiabatic air and the height of the\n",
    "    overshooting cloud top for this adiabatic parcel. Include in\n",
    "    your description the variables you need to calculate and the\n",
    "    equations you need to solve.\n",
    "\n"
   ]
  },
  {
   "cell_type": "markdown",
   "metadata": {},
   "source": [
    "## $r_l$ liquid answer\n",
    "\n",
    "Condensed liquid water = 14 g/kg - approx 0.1 so about 14 g/kg\n",
    "\n"
   ]
  },
  {
   "cell_type": "markdown",
   "metadata": {},
   "source": [
    "## LCL answer"
   ]
  },
  {
   "cell_type": "code",
   "execution_count": null,
   "metadata": {},
   "outputs": [],
   "source": [
    "Tlcl, plcl=find_lcl(sfc_td, sfc_temp,sfc_press)"
   ]
  },
  {
   "cell_type": "code",
   "execution_count": null,
   "metadata": {},
   "outputs": [],
   "source": []
  },
  {
   "cell_type": "code",
   "execution_count": null,
   "metadata": {},
   "outputs": [],
   "source": [
    "from a405.skewT.fullskew import makeSkewWet,find_corners,make_default_labels\n",
    "\n",
    "def label_fun():\n",
    "    \"\"\"\n",
    "    override the default rs labels with a tighter mesh\n",
    "    \"\"\"\n",
    "    from numpy import arange\n",
    "    #\n",
    "    # get the default labels\n",
    "    #\n",
    "    tempLabels,rsLabels, thetaLabels, thetaeLabels = make_default_labels()\n",
    "    #\n",
    "    # change the temperature and rs grids\n",
    "    #\n",
    "    tempLabels = range(-40, 50, 2)\n",
    "    rsLabels = [0.1, 0.25, 0.5, 1, 2, 3] + list(np.arange(4, 28, 2)) \n",
    "    return tempLabels,rsLabels, thetaLabels, thetaeLabels\n",
    "\n",
    "skew=35.\n",
    "temp=the_sounding['temp']\n",
    "press = the_sounding['pres']\n",
    "tdew = the_sounding['dwpt']\n",
    "temp_skew = convertTempToSkew(temp,press,skew)\n",
    "tdew_skew = convertTempToSkew(tdew,press,skew)\n",
    "\n",
    "fig,ax =plt.subplots(1,1,figsize=(11,11))\n",
    "corners = [-5, 35]\n",
    "ax, skew = makeSkewWet(ax, corners=corners, skew=skew,label_fun=label_fun)\n",
    "ax.set_title('Del Rio Texas sounding')\n",
    "xcorners=find_corners(corners,skew=skew)\n",
    "ax.set(xlim=xcorners,ylim=[1000,200])\n",
    "l1=ax.plot(temp_skew,press,linewidth=5)\n",
    "l2=ax.plot(tdew_skew,press,linewidth=5);\n",
    "fig.savefig('delrio.pdf')"
   ]
  },
  {
   "cell_type": "markdown",
   "metadata": {},
   "source": [
    "#  Cooling problem (12 points)\n",
    "\n",
    "Use figure on the next page to calculate the following:\n",
    "\n",
    "Air at 700 hPa has 7 g/kg of vapor and 1 g/kg of liquid.\n",
    "\n",
    "-   (4 points) Find:\n",
    "\n",
    "    -   The LCL of this air\n",
    "\n",
    "    -   The approximate temperature if it was brought adiabatically\n",
    "        to a pressure of 1000 hPa.\n",
    "\n",
    "-   (8 points) Suppose this air was cooled by 10 degrees C at a\n",
    "    constant pressure of 700 hPa. Find:\n",
    "\n",
    "    -   The amount of liquid water condensed by the cooling (g/kg)\n",
    "\n",
    "    -   The new LCL, assuming no precipitation\n",
    "\n",
    "    -   The amount of energy $\\Delta q_{out}$ (J/kg) shed to the\n",
    "        environment during the cooling.\n",
    "\n",
    "\n",
    "## answer\n",
    "\n",
    "new lcl is about 850 hPa\n",
    "\n",
    "temp at surface the same as $\\theta$ at lcl = 303 K\n",
    "\n",
    "cool by 10 K from about + 3 deg C to about -7 deg C, so rsat drops from 7 g/kg to about 3.5 g/kg\n",
    "\n",
    "$\\Delta q = \\Delta h_m = c_p \\Delta T + l_v \\Delta r_v$ = 1004.*10 + 2.5e6 *3.5e-3 =about 19,000 J/kg"
   ]
  },
  {
   "cell_type": "code",
   "execution_count": null,
   "metadata": {},
   "outputs": [],
   "source": [
    "1004*10 + 2.5e6*3.5e-3"
   ]
  },
  {
   "cell_type": "code",
   "execution_count": null,
   "metadata": {},
   "outputs": [],
   "source": [
    "def label_fun():\n",
    "    \"\"\"\n",
    "    override the default rs labels with a tighter mesh\n",
    "    \"\"\"\n",
    "    from numpy import arange\n",
    "    #\n",
    "    # get the default labels\n",
    "    #\n",
    "    tempLabels,rsLabels, thetaLabels, thetaeLabels = make_default_labels()\n",
    "    #\n",
    "    # change the temperature and rs grids\n",
    "    #\n",
    "    tempLabels = range(-40, 50, 2)\n",
    "    rsLabels = [0.1, 0.25, 0.5, 1, 2, 3] + list(np.arange(4, 28, 1)) \n",
    "    thetaeLabels = np.arange(295,335,3)\n",
    "    return tempLabels,rsLabels, thetaLabels, thetaeLabels\n",
    "\n",
    "fig,ax =plt.subplots(1,1,figsize=(11,11))\n",
    "ax, skew = makeSkewWet(ax, corners=corners, skew=skew,label_fun=label_fun)\n",
    "ax.set_title('Cooling problm')\n",
    "corners=[5,20]\n",
    "xcorners=find_corners(corners,skew=skew)\n",
    "ax.set(xlim=xcorners,ylim=[1000,600])\n",
    "fig.savefig('cooling.pdf')"
   ]
  },
  {
   "cell_type": "markdown",
   "metadata": {},
   "source": [
    "# Mixing problem\n",
    "Use pseudo-code to describe how you would calculate the temperature,\n",
    "$T$ and water mixing ratios $r_v$ and $r_l$ of a mixture of cloud\n",
    "and environment, given the pressure of the mixing level, the\n",
    "temperature $T$, $r_v$ and $r_l$ of each parcel and the fraction $f$\n",
    "of the environment in the final mixture. Specifiy the equations you\n",
    "are solving, and the technique (rootfinding, integration, ode\n",
    "solver). Feel feel use python functions that have been used in\n",
    "class, but describe explicitly what those functions do.\n",
    "\n",
    "\n",
    "## Answer\n",
    "\n",
    "mix two conserved variables,  $r_T$ for water and either $h_m$ or $\\log \\theta_e$ (or $\\theta_e$ approximately)\n",
    "\n",
    "$\\theta_{emix} = (1-f) \\theta_{ecld} + f \\theta_e$\n",
    "\n",
    "$r_{Tmix} = (1 -f) r_{Tcld} + f r_{Tenv}$\n",
    "\n",
    "Then rootfind with the target $\\theta_{emix}$ to find $T_{mix}$\n"
   ]
  },
  {
   "cell_type": "code",
   "execution_count": null,
   "metadata": {},
   "outputs": [],
   "source": []
  }
 ],
 "metadata": {
  "kernelspec": {
   "display_name": "Python 3",
   "language": "python",
   "name": "python3"
  },
  "language_info": {
   "codemirror_mode": {
    "name": "ipython",
    "version": 3
   },
   "file_extension": ".py",
   "mimetype": "text/x-python",
   "name": "python",
   "nbconvert_exporter": "python",
   "pygments_lexer": "ipython3",
   "version": "3.6.4"
  },
  "toc": {
   "nav_menu": {},
   "number_sections": true,
   "sideBar": false,
   "skip_h1_title": false,
   "toc_cell": true,
   "toc_position": {},
   "toc_section_display": "block",
   "toc_window_display": false
  }
 },
 "nbformat": 4,
 "nbformat_minor": 1
}
