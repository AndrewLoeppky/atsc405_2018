{
 "cells": [
  {
   "cell_type": "markdown",
   "metadata": {
    "toc": true
   },
   "source": [
    "<h1>Table of Contents<span class=\"tocSkip\"></span></h1>\n",
    "<div class=\"toc\" style=\"margin-top: 1em;\"><ul class=\"toc-item\"><li><span><a href=\"#Given-the-critical-supersaturation-from-the-kohler-notes:\" data-toc-modified-id=\"Given-the-critical-supersaturation-from-the-kohler-notes:-1\"><span class=\"toc-item-num\">1&nbsp;&nbsp;</span>Given the critical supersaturation from the kohler notes:</a></span><ul class=\"toc-item\"><li><span><a href=\"#specify-the-aerosol-properties\" data-toc-modified-id=\"specify-the-aerosol-properties-1.1\"><span class=\"toc-item-num\">1.1&nbsp;&nbsp;</span>specify the aerosol properties</a></span></li><li><span><a href=\"#Turn-the-aerosol-dictionary-into-a-named_tuple\" data-toc-modified-id=\"Turn-the-aerosol-dictionary-into-a-named_tuple-1.2\"><span class=\"toc-item-num\">1.2&nbsp;&nbsp;</span>Turn the aerosol dictionary into a named_tuple</a></span></li><li><span><a href=\"#Define-a-function-to-calculate-a-and-b-for-any-aerosol\" data-toc-modified-id=\"Define-a-function-to-calculate-a-and-b-for-any-aerosol-1.3\"><span class=\"toc-item-num\">1.3&nbsp;&nbsp;</span>Define a function to calculate a and b for any aerosol</a></span></li><li><span><a href=\"#Call-it-on-this-aerosol-and-calculate-SScrit\" data-toc-modified-id=\"Call-it-on-this-aerosol-and-calculate-SScrit-1.4\"><span class=\"toc-item-num\">1.4&nbsp;&nbsp;</span>Call it on this aerosol and calculate SScrit</a></span></li></ul></li><li><span><a href=\"#save-these-aerosol-data-for-future-calculations\" data-toc-modified-id=\"save-these-aerosol-data-for-future-calculations-2\"><span class=\"toc-item-num\">2&nbsp;&nbsp;</span>save these aerosol data for future calculations</a></span></li><li><span><a href=\"#Read-the-json-files-back-in-and-work-with-them\" data-toc-modified-id=\"Read-the-json-files-back-in-and-work-with-them-3\"><span class=\"toc-item-num\">3&nbsp;&nbsp;</span>Read the json files back in and work with them</a></span></li></ul></div>"
   ]
  },
  {
   "cell_type": "markdown",
   "metadata": {},
   "source": [
    "# Given the critical supersaturation from the kohler notes:\n",
    "\n",
    "\n",
    "$SS=S^* - 1= \\left ( \\frac{4 a^3}{27b} \\right )^{1/2}$\n",
    "\n",
    "show that this implies, for $(NH_4)_2 SO_4$, density $\\rho_{aer}$ = 1775\n",
    "${kg}\\,{m^{-3}}$ , van hoft i=3, that:\n",
    "  \n",
    "$S^* -1 \\approx 1.54 \\times 10^{-12}~ m_{aer}^{-0.5}$\n",
    "\n",
    "where $m_{aer}$ is the ammonium sulphate aerosol mass in kg.\n",
    "\n",
    "Note that this is why a cloud chamber can get the aerosol mass distribution from a series of\n",
    "saturation and light scattering measurements as smaller and smaller aerosols are pushed over\n",
    "their critical supersaturation and activated.\n",
    "\n"
   ]
  },
  {
   "cell_type": "markdown",
   "metadata": {},
   "source": [
    "## specify the aerosol properties"
   ]
  },
  {
   "cell_type": "code",
   "execution_count": 1,
   "metadata": {},
   "outputs": [
    {
     "name": "stdout",
     "output_type": "stream",
     "text": [
      "{   'Ms': 132,\n",
      "    'Mw': 18.0,\n",
      "    'Sigma': 0.075,\n",
      "    'comments': 'ammonum sulfate (NH4)2SO4',\n",
      "    'vanHoff': 3.0}\n"
     ]
    }
   ],
   "source": [
    "aero_amonium_sulphate=dict([\\\n",
    "   ('Ms', 132),\n",
    "   ('Mw', 18.0),\n",
    "   ('Sigma', 0.075),\n",
    "   ('vanHoff', 3.0),\n",
    "   ('comments','ammonum sulfate (NH4)2SO4')])\n",
    "\n",
    "aero_sodium_chloride=dict([\\\n",
    "   ('Ms', 58),\n",
    "   ('Mw', 18.0),\n",
    "   ('Sigma', 0.075),\n",
    "   ('vanHoff', 2.0),\n",
    "   ('comments','sodium chloride NaCl')])\n",
    "\n",
    "#\n",
    "# load pprint to print nested data structures\n",
    "#\n",
    "import pprint\n",
    "pp = pprint.PrettyPrinter(indent=4)\n",
    "pp.pprint(aero_amonium_sulphate)"
   ]
  },
  {
   "cell_type": "markdown",
   "metadata": {},
   "source": [
    "## Turn the aerosol dictionary into a named_tuple\n",
    "\n",
    "I would rather write the vanHoff factor as:\n",
    "\n",
    "     aerosol.vanHoff\n",
    "     \n",
    "instead of:\n",
    "\n",
    "     aerosol['vanHoff']\n",
    "     \n",
    "in my formulae.\n",
    "\n",
    "The utility function [a405.utils.helper_funs.make_tuple](https://github.com/phaustin/atsc405_2018/blob/master/a405/utils/helper_funs.py#L26-L47) turns a dictionary into a [namedtuple](https://docs.python.org/3/library/collections.html#namedtuple-factory-function-for-tuples-with-named-fields)"
   ]
  },
  {
   "cell_type": "code",
   "execution_count": 2,
   "metadata": {},
   "outputs": [
    {
     "name": "stdout",
     "output_type": "stream",
     "text": [
      "values(Ms=132, Mw=18.0, Sigma=0.075, vanHoff=3.0, comments='ammonum sulfate (NH4)2SO4')\n"
     ]
    }
   ],
   "source": [
    "from a405.utils.helper_funs import make_tuple\n",
    "aero = make_tuple(aero_amonium_sulphate)\n",
    "print(aero)"
   ]
  },
  {
   "cell_type": "markdown",
   "metadata": {},
   "source": [
    "## Define a function to calculate a and b for any aerosol\n",
    "\n",
    "Follow the hint and copy it from [day24](https://clouds.eos.ubc.ca/~phil/courses/atsc405/html/kohler.html)"
   ]
  },
  {
   "cell_type": "code",
   "execution_count": 3,
   "metadata": {},
   "outputs": [],
   "source": [
    "from a405.thermo.constants import constants as c\n",
    "import numpy as np\n",
    "\n",
    "def calc_kohler_coeffs(aero, Temp):\n",
    "    a=(2.*aero.Sigma)/(c.Rv*Temp*c.rhol)  #curvature term\n",
    "    b=(aero.vanHoff*aero.Mw)/((4./3.)*np.pi*c.rhol*aero.Ms)  #Raoult term without aerosol mass\n",
    "    return a,b"
   ]
  },
  {
   "cell_type": "markdown",
   "metadata": {},
   "source": [
    "## Call it on this aerosol and calculate SScrit"
   ]
  },
  {
   "cell_type": "code",
   "execution_count": 4,
   "metadata": {},
   "outputs": [
    {
     "name": "stdout",
     "output_type": "stream",
     "text": [
      "The coefficient is 1.54e-12 kg**(0.5)\n"
     ]
    }
   ],
   "source": [
    "a, b = calc_kohler_coeffs(aero,280.)\n",
    "coeff = (4.*a**3./(27.*b))**0.5\n",
    "print(f'The coefficient is {coeff:6.2e} kg**(0.5)')"
   ]
  },
  {
   "cell_type": "markdown",
   "metadata": {},
   "source": [
    "# save these aerosol data for future calculations\n",
    "\n",
    "How do I save the two aerosol dictionaries so I can load them from other programs?\n",
    "\n",
    "I have a data directory that I use for this kind of information called a405/data.  I'll write out the two dictionaries aero_amonium_sulpate and aero_sodium_chloride as [json](https://en.wikipedia.org/wiki/JSON) files.  I'll use the\n",
    "[pathlib module](https://docs.python.org/3/library/pathlib.html) to construct the path to the individual json files\n",
    "starting from the location of the a405.data folder."
   ]
  },
  {
   "cell_type": "code",
   "execution_count": 5,
   "metadata": {},
   "outputs": [],
   "source": [
    "import a405.data\n",
    "from pathlib import Path\n",
    "import json\n",
    "#\n",
    "# locate the a405/data folder on this computer\n",
    "#\n",
    "dirpath=a405.data.__path__\n",
    "\n",
    "the_path = Path(dirpath[0])\n",
    "#\n",
    "#  add the indivdual file names\n",
    "#\n",
    "nacl_file = the_path / Path('aero_nacl.json')\n",
    "amsulphate_file = the_path / Path('ammonium_sulphate.json')\n",
    "file_paths=[amsulphate_file,nacl_file]\n",
    "dicts = [aero_amonium_sulphate, aero_sodium_chloride]\n",
    "for the_path,the_dict in zip(file_paths,dicts):\n",
    "    with open(the_path,'w') as f:\n",
    "        json.dump(the_dict,f,indent=4)"
   ]
  },
  {
   "cell_type": "markdown",
   "metadata": {},
   "source": [
    "Check the a405/data folder to make sure these files have been written."
   ]
  },
  {
   "cell_type": "markdown",
   "metadata": {},
   "source": [
    "# Read the json files back in and work with them\n",
    "\n",
    "How do I find the files from another program/notebook once I've written them?   There is a module \n",
    "called [importlib_resources](http://importlib-resources.readthedocs.io/en/latest/) that will be part of the next python release (3.7).  For now you can install with pip:\n",
    "         \n",
    "          pip install importlib_resources\n",
    "          \n",
    "As long as you know that the data folder is in the a405 package you can get its location on your computer like this:"
   ]
  },
  {
   "cell_type": "code",
   "execution_count": 6,
   "metadata": {},
   "outputs": [
    {
     "name": "stdout",
     "output_type": "stream",
     "text": [
      "contents of the data folder=['ammonium_sulphate.json', '__init__.py', '__pycache__', 'aero_nacl.json']\n",
      "\n",
      "here is the sulfate aerosol info:\n",
      "{   'Ms': 132,\n",
      "    'Mw': 18.0,\n",
      "    'Sigma': 0.075,\n",
      "    'comments': 'ammonum sulfate (NH4)2SO4',\n",
      "    'vanHoff': 3.0}\n"
     ]
    }
   ],
   "source": [
    "import importlib_resources as ir \n",
    "contents=list(ir.contents('a405.data'))\n",
    "print(f'contents of the data folder={contents}\\n')\n",
    "\n",
    "with ir.open_text('a405.data','ammonium_sulphate.json') as f:\n",
    "    aero_dict=json.load(f)\n",
    "\n",
    "print('here is the sulfate aerosol info:')\n",
    "pp.pprint(aero_dict)"
   ]
  },
  {
   "cell_type": "code",
   "execution_count": 7,
   "metadata": {},
   "outputs": [
    {
     "data": {
      "text/plain": [
       "['Package',\n",
       " 'Resource',\n",
       " 'ResourceReader',\n",
       " '__builtins__',\n",
       " '__cached__',\n",
       " '__doc__',\n",
       " '__file__',\n",
       " '__loader__',\n",
       " '__name__',\n",
       " '__package__',\n",
       " '__path__',\n",
       " '__spec__',\n",
       " '__version__',\n",
       " '_compat',\n",
       " '_py3',\n",
       " 'abc',\n",
       " 'contents',\n",
       " 'is_resource',\n",
       " 'open_binary',\n",
       " 'open_text',\n",
       " 'path',\n",
       " 'read_binary',\n",
       " 'read_text',\n",
       " 'sys']"
      ]
     },
     "execution_count": 7,
     "metadata": {},
     "output_type": "execute_result"
    }
   ],
   "source": [
    "list(ir.contents('a405.data'))\n",
    "dir(ir)"
   ]
  },
  {
   "cell_type": "code",
   "execution_count": null,
   "metadata": {},
   "outputs": [],
   "source": []
  }
 ],
 "metadata": {
  "jupytext": {
   "formats": "ipynb,md:myst"
  },
  "kernelspec": {
   "display_name": "Python 3",
   "language": "python",
   "name": "python3"
  },
  "language_info": {
   "codemirror_mode": {
    "name": "ipython",
    "version": 3
   },
   "file_extension": ".py",
   "mimetype": "text/x-python",
   "name": "python",
   "nbconvert_exporter": "python",
   "pygments_lexer": "ipython3",
   "version": "3.10.1"
  },
  "toc": {
   "nav_menu": {},
   "number_sections": true,
   "sideBar": false,
   "skip_h1_title": false,
   "toc_cell": true,
   "toc_position": {},
   "toc_section_display": "block",
   "toc_window_display": false
  }
 },
 "nbformat": 4,
 "nbformat_minor": 2
}
