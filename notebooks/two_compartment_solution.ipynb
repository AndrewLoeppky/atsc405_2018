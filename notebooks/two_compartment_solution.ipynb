{
 "cells": [
  {
   "cell_type": "markdown",
   "metadata": {
    "toc": true
   },
   "source": [
    "<h1>Table of Contents<span class=\"tocSkip\"></span></h1>\n",
    "<div class=\"toc\" style=\"margin-top: 1em;\"><ul class=\"toc-item\"><li><span><a href=\"#First-find-the-total-mass-and-energy-before\" data-toc-modified-id=\"First-find-the-total-mass-and-energy-before-1\"><span class=\"toc-item-num\">1&nbsp;&nbsp;</span>First find the total mass and energy before</a></span></li><li><span><a href=\"#Use-the-specific-internal-energy-u-=-cv*T--to-find-T-after\" data-toc-modified-id=\"Use-the-specific-internal-energy-u-=-cv*T--to-find-T-after-2\"><span class=\"toc-item-num\">2&nbsp;&nbsp;</span>Use the specific internal energy u = cv*T  to find T after</a></span></li><li><span><a href=\"#Use-the-equation-of-state-to-find-pressure-after\" data-toc-modified-id=\"Use-the-equation-of-state-to-find-pressure-after-3\"><span class=\"toc-item-num\">3&nbsp;&nbsp;</span>Use the equation of state to find pressure after</a></span></li><li><span><a href=\"#get-the-change-in-entropy-from-cpd-x-log(theta)\" data-toc-modified-id=\"get-the-change-in-entropy-from-cpd-x-log(theta)-4\"><span class=\"toc-item-num\">4&nbsp;&nbsp;</span>get the change in entropy from cpd x log(theta)</a></span></li></ul></div>"
   ]
  },
  {
   "cell_type": "markdown",
   "metadata": {},
   "source": [
    "* Consider two compartments, each with a volume of 1 $m^3$, separated by a rigid, perfectly insulating membrane.\n",
    " \n",
    "* Initially $T_A$ = 300 K and $p_A$ = $10^5$ Pa, and $T_B$ = 100 K and $p_B$ = $10^3$ Pa.  Suppose the membrane breaks.  Find the final temperature and pressure in the 2 $m^3$ compartment.   Does the total entropy change?  By how much?\n",
    "\n"
   ]
  },
  {
   "cell_type": "code",
   "execution_count": 1,
   "metadata": {},
   "outputs": [],
   "source": [
    "from a405.thermo.thermlib import find_theta\n",
    "import numpy as np\n",
    "Ta=300  #K\n",
    "pa=1.e5 #Pa\n",
    "Tb =100 #K\n",
    "pb =1.e3  #Pa\n",
    "Rd = 287 #J/kg/K\n",
    "cv = 717 #J/kg/K\n",
    "cpd = 1004.  #J/kg/K\n",
    "dens_fun = lambda temp,press: press/(Rd*temp)\n",
    "theta_fun = lambda temp, press: temp*(1.e5/press)**(Rd/cpd)"
   ]
  },
  {
   "cell_type": "markdown",
   "metadata": {},
   "source": [
    "# First find the total mass and energy before"
   ]
  },
  {
   "cell_type": "code",
   "execution_count": 2,
   "metadata": {},
   "outputs": [
    {
     "name": "stdout",
     "output_type": "stream",
     "text": [
      "Ua: 2.498e+05 J, Ub: 2.498e+03 J, Utot: 2.523e+05 J\n"
     ]
    }
   ],
   "source": [
    "dens_a = dens_fun(Ta,pa)\n",
    "dens_b = dens_fun(Tb,pb)\n",
    "theta_a = find_theta(Ta,pa)\n",
    "theta_b = find_theta(Ta,pb)\n",
    "#\n",
    "# total mass = sum of mass of two 1 m^3 compartments\n",
    "#\n",
    "Mtot = dens_a*1 + dens_b*1\n",
    "Ua = dens_a*cv*Ta  #internal energy in Joules\n",
    "Ub = dens_b*cv*Tb\n",
    "Utot = Ua + Ub\n",
    "print(f'Ua: {Ua:8.3e} J, Ub: {Ub:8.3e} J, Utot: {Utot:8.3e} J')"
   ]
  },
  {
   "cell_type": "markdown",
   "metadata": {},
   "source": [
    "# Use the specific internal energy u = cv*T  to find T after"
   ]
  },
  {
   "cell_type": "code",
   "execution_count": 3,
   "metadata": {},
   "outputs": [
    {
     "name": "stdout",
     "output_type": "stream",
     "text": [
      "temp_after: 294.17 K\n"
     ]
    }
   ],
   "source": [
    "u_tot = Utot/Mtot  #specific internal energy in J/kg\n",
    "temp_after = u_tot/cv\n",
    "print(f'temp_after: {temp_after:6.2f} K')"
   ]
  },
  {
   "cell_type": "markdown",
   "metadata": {},
   "source": [
    "# Use the equation of state to find pressure after"
   ]
  },
  {
   "cell_type": "code",
   "execution_count": 4,
   "metadata": {},
   "outputs": [
    {
     "name": "stdout",
     "output_type": "stream",
     "text": [
      "press_after: 50500.000 Pa, dens_after:  0.598 kg/m^3\n"
     ]
    }
   ],
   "source": [
    "dens_after = Mtot/2.  #total volume is 2 m**3.\n",
    "press_after = Rd*dens_after*temp_after\n",
    "print(f'press_after: {press_after:6.3f} Pa, dens_after: {dens_after:6.3f} kg/m^3')"
   ]
  },
  {
   "cell_type": "markdown",
   "metadata": {},
   "source": [
    "# get the change in entropy from cpd x log(theta)"
   ]
  },
  {
   "cell_type": "code",
   "execution_count": 5,
   "metadata": {},
   "outputs": [],
   "source": [
    "theta_after = find_theta(temp_after,press_after)\n",
    "entropy_before= dens_a*cpd*np.log(theta_a) + dens_b*cpd*np.log(theta_b)\n",
    "entropy_after = Mtot*cpd*np.log(theta_after)"
   ]
  },
  {
   "cell_type": "code",
   "execution_count": 6,
   "metadata": {},
   "outputs": [
    {
     "name": "stdout",
     "output_type": "stream",
     "text": [
      "after: 7061.283 J/kg/K, before: 6896.614 J/kg/K\n"
     ]
    }
   ],
   "source": [
    "print(f'after: {entropy_after:6.3f} J/kg/K, before: {entropy_before:6.3f} J/kg/K')"
   ]
  },
  {
   "cell_type": "code",
   "execution_count": null,
   "metadata": {},
   "outputs": [],
   "source": []
  }
 ],
 "metadata": {
  "kernelspec": {
   "display_name": "Python 3",
   "language": "python",
   "name": "python3"
  },
  "language_info": {
   "codemirror_mode": {
    "name": "ipython",
    "version": 3
   },
   "file_extension": ".py",
   "mimetype": "text/x-python",
   "name": "python",
   "nbconvert_exporter": "python",
   "pygments_lexer": "ipython3",
   "version": "3.6.4"
  },
  "toc": {
   "nav_menu": {},
   "number_sections": true,
   "sideBar": false,
   "skip_h1_title": false,
   "toc_cell": true,
   "toc_position": {},
   "toc_section_display": "block",
   "toc_window_display": false
  }
 },
 "nbformat": 4,
 "nbformat_minor": 2
}
