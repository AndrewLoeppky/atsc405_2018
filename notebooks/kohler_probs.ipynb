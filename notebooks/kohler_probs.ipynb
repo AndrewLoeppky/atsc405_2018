{
 "cells": [
  {
   "cell_type": "markdown",
   "metadata": {
    "toc": true
   },
   "source": [
    "<h1>Table of Contents<span class=\"tocSkip\"></span></h1>\n",
    "<div class=\"toc\" style=\"margin-top: 1em;\"><ul class=\"toc-item\"><li><span><a href=\"#Wednesday-problems\" data-toc-modified-id=\"Wednesday-problems-1\"><span class=\"toc-item-num\">1&nbsp;&nbsp;</span>Wednesday problems</a></span><ul class=\"toc-item\"><li><span><a href=\"#Problem:-Taylor-series\" data-toc-modified-id=\"Problem:-Taylor-series-1.1\"><span class=\"toc-item-num\">1.1&nbsp;&nbsp;</span>Problem: Taylor series</a></span></li><li><span><a href=\"#Problem:-Term-comparison\" data-toc-modified-id=\"Problem:-Term-comparison-1.2\"><span class=\"toc-item-num\">1.2&nbsp;&nbsp;</span>Problem: Term comparison</a></span></li><li><span><a href=\"#Problem-surface-energy:\" data-toc-modified-id=\"Problem-surface-energy:-1.3\"><span class=\"toc-item-num\">1.3&nbsp;&nbsp;</span>Problem surface energy:</a></span></li></ul></li></ul></div>"
   ]
  },
  {
   "cell_type": "markdown",
   "metadata": {},
   "source": [
    "# Wednesday problems"
   ]
  },
  {
   "cell_type": "markdown",
   "metadata": {},
   "source": [
    "## Problem: Taylor series\n",
    "\n",
    "Show using two Taylor series expansions (one for $a_w$ and one for\n",
    "$\\exp \\left [ \\frac{2\\sigma}{\\rho_l R_v T r} \\right ]$) show how to get  Thompkins 4.15:\n",
    "\n",
    "$S= a_w \\exp \\left [ \\frac{2\\sigma}{\\rho_l R_v T r} \\right ] \\approx \\left ( 1 + \\frac{a}{r} - \\frac{b}{r^3} \\right )$"
   ]
  },
  {
   "cell_type": "markdown",
   "metadata": {},
   "source": [
    "## Problem: Term comparison  \n",
    "\n",
    "For the aerosol defined in the kohler.ipynb notebook ($10^{-19}$ kg, ammonium sulphate), inside a droplet of radius $r=1\\ \\mu m$\n",
    "      find the size of the smallest term you've kept (either $\\frac{a}{r}$ or $\\frac{b}{r^3}$ and compare it to\n",
    "      the size of the largest term you've dropped.   Repeat this for a droplet of radius   $r=0.1\\ \\mu m$\n",
    "\n"
   ]
  },
  {
   "cell_type": "markdown",
   "metadata": {
    "collapsed": true
   },
   "source": [
    "## Problem surface energy:\n",
    "\n",
    "Suppose you have $r_l$ =1 g/kg of liquid water spread among N spherical drops of radius 10 $\\mu m$.  Compare the surface energy of this\n",
    "      population (which we've been neglecting) with the enthalpy required to vaporize it:  $l_v r_l$.  Is it negligible in comparison?\n",
    "\n"
   ]
  },
  {
   "cell_type": "code",
   "execution_count": null,
   "metadata": {},
   "outputs": [],
   "source": []
  }
 ],
 "metadata": {
  "kernelspec": {
   "display_name": "Python 3",
   "language": "python",
   "name": "python3"
  },
  "language_info": {
   "codemirror_mode": {
    "name": "ipython",
    "version": 3
   },
   "file_extension": ".py",
   "mimetype": "text/x-python",
   "name": "python",
   "nbconvert_exporter": "python",
   "pygments_lexer": "ipython3",
   "version": "3.6.4"
  },
  "toc": {
   "nav_menu": {},
   "number_sections": true,
   "sideBar": false,
   "skip_h1_title": false,
   "toc_cell": true,
   "toc_position": {},
   "toc_section_display": "block",
   "toc_window_display": false
  }
 },
 "nbformat": 4,
 "nbformat_minor": 1
}
