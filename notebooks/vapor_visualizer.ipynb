{
 "cells": [
  {
   "cell_type": "markdown",
   "metadata": {
    "toc": true
   },
   "source": [
    "<h1>Table of Contents<span class=\"tocSkip\"></span></h1>\n",
    "<div class=\"toc\" style=\"margin-top: 1em;\"><ul class=\"toc-item\"><li><span><a href=\"#Getting-started-with-vapor\" data-toc-modified-id=\"Getting-started-with-vapor-1\"><span class=\"toc-item-num\">1&nbsp;&nbsp;</span>Getting started with vapor</a></span></li></ul></div>"
   ]
  },
  {
   "cell_type": "markdown",
   "metadata": {},
   "source": [
    "# Getting started with vapor"
   ]
  },
  {
   "cell_type": "markdown",
   "metadata": {},
   "source": [
    "1.  Fetch the netcdf file tropical.nc from my webserver (50 Mbytes)"
   ]
  },
  {
   "cell_type": "code",
   "execution_count": 1,
   "metadata": {},
   "outputs": [
    {
     "name": "stdout",
     "output_type": "stream",
     "text": [
      "trying http://clouds.eos.ubc.ca/~phil/docs/atsc500/tropical_clouds.zip\n",
      "writing to: tropical_clouds.zip\n",
      "\n",
      "tropical_clouds.zip already exists\n",
      "and is 28912275 bytes\n",
      "will not overwrite\n",
      "\n"
     ]
    }
   ],
   "source": [
    "from a405.utils.data_read import download\n",
    "the_root = \"http://clouds.eos.ubc.ca/~phil/docs/atsc500\"\n",
    "the_file =  \"tropical_clouds.zip\"\n",
    "out=download(the_file,root=the_root)"
   ]
  },
  {
   "cell_type": "markdown",
   "metadata": {},
   "source": [
    "2.  unzip tropical_clouds.zip in your notebook folder"
   ]
  },
  {
   "cell_type": "markdown",
   "metadata": {},
   "source": [
    "3. Install vapor per [these instructions](https://www.vapor.ucar.edu/docs/usage/getting-started-vapor)"
   ]
  },
  {
   "cell_type": "markdown",
   "metadata": {},
   "source": [
    "Start vapor, go to \"Data -> Load dataset into current session\" and point it at tropical_clouds/outname.vdf  See if you can get a 3-d visualization of 3-d visualization of TABS"
   ]
  },
  {
   "cell_type": "code",
   "execution_count": null,
   "metadata": {},
   "outputs": [],
   "source": []
  }
 ],
 "metadata": {
  "kernelspec": {
   "display_name": "Python 3",
   "language": "python",
   "name": "python3"
  },
  "language_info": {
   "codemirror_mode": {
    "name": "ipython",
    "version": 3
   },
   "file_extension": ".py",
   "mimetype": "text/x-python",
   "name": "python",
   "nbconvert_exporter": "python",
   "pygments_lexer": "ipython3",
   "version": "3.6.4"
  },
  "toc": {
   "nav_menu": {},
   "number_sections": true,
   "sideBar": false,
   "skip_h1_title": false,
   "toc_cell": true,
   "toc_position": {},
   "toc_section_display": "block",
   "toc_window_display": false
  }
 },
 "nbformat": 4,
 "nbformat_minor": 1
}
