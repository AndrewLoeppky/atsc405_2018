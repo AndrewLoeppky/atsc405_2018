{
 "cells": [
  {
   "cell_type": "markdown",
   "metadata": {
    "toc": true
   },
   "source": [
    "<h1>Table of Contents<span class=\"tocSkip\"></span></h1>\n",
    "<div class=\"toc\" style=\"margin-top: 1em;\"><ul class=\"toc-item\"><li><span><a href=\"#Demonstrate-the-sounding-retrieval-code\" data-toc-modified-id=\"Demonstrate-the-sounding-retrieval-code-1\"><span class=\"toc-item-num\">1&nbsp;&nbsp;</span>Demonstrate the sounding retrieval code</a></span></li><li><span><a href=\"#Read-the-soundings-back-into-python\" data-toc-modified-id=\"Read-the-soundings-back-into-python-2\"><span class=\"toc-item-num\">2&nbsp;&nbsp;</span>Read the soundings back into python</a></span></li><li><span><a href=\"#Examine-the-nested-dictionaries-inside-soundings\" data-toc-modified-id=\"Examine-the-nested-dictionaries-inside-soundings-3\"><span class=\"toc-item-num\">3&nbsp;&nbsp;</span>Examine the nested dictionaries inside soundings</a></span></li><li><span><a href=\"#Get-the-first-sounding\" data-toc-modified-id=\"Get-the-first-sounding-4\"><span class=\"toc-item-num\">4&nbsp;&nbsp;</span>Get the first sounding</a></span></li><li><span><a href=\"#Plot-it\" data-toc-modified-id=\"Plot-it-5\"><span class=\"toc-item-num\">5&nbsp;&nbsp;</span>Plot it</a></span></li></ul></div>"
   ]
  },
  {
   "cell_type": "markdown",
   "metadata": {},
   "source": [
    "# Demonstrate the sounding retrieval code"
   ]
  },
  {
   "cell_type": "code",
   "execution_count": 1,
   "metadata": {},
   "outputs": [],
   "source": [
    "from a405.soundings.wyominglib import write_soundings, read_soundings\n",
    "from matplotlib import pyplot as plt"
   ]
  },
  {
   "cell_type": "markdown",
   "metadata": {},
   "source": [
    "Ask for north american soundings between July 1, 2017 00Z and July 18, 2017 00Z for\n",
    "Dodge City, Kansas  from http://weather.uwyo.edu/upperair/sounding.html"
   ]
  },
  {
   "cell_type": "code",
   "execution_count": 4,
   "metadata": {},
   "outputs": [],
   "source": [
    "values=dict(region='naconf',year='2012',month='3',start='0100',stop='1800',station='72340')"
   ]
  },
  {
   "cell_type": "markdown",
   "metadata": {},
   "source": [
    "Write the soundings into a folder called soundingdir"
   ]
  },
  {
   "cell_type": "code",
   "execution_count": 10,
   "metadata": {},
   "outputs": [
    {
     "name": "stdout",
     "output_type": "stream",
     "text": [
      "440858\n",
      "header is:  72340 LZK Little Rock Observations at 00Z 01 Mar 2012\n",
      "here is the day:  120301\n",
      "here is the day:  120301\n",
      "here is the day:  120302\n",
      "here is the day:  120302\n",
      "here is the day:  120302\n",
      "here is the day:  120303\n",
      "here is the day:  120303\n",
      "here is the day:  120304\n",
      "here is the day:  120304\n",
      "here is the day:  120305\n",
      "here is the day:  120305\n",
      "here is the day:  120306\n",
      "here is the day:  120306\n",
      "here is the day:  120307\n",
      "here is the day:  120307\n",
      "here is the day:  120308\n",
      "here is the day:  120308\n",
      "here is the day:  120309\n",
      "here is the day:  120309\n",
      "here is the day:  120310\n",
      "here is the day:  120310\n",
      "here is the day:  120311\n",
      "here is the day:  120311\n",
      "here is the day:  120312\n",
      "here is the day:  120312\n",
      "here is the day:  120313\n",
      "here is the day:  120313\n",
      "here is the day:  120314\n",
      "here is the day:  120314\n",
      "here is the day:  120315\n",
      "here is the day:  120315\n",
      "here is the day:  120316\n",
      "here is the day:  120316\n",
      "here is the day:  120317\n",
      "here is the day:  120317\n",
      "here is the day:  120318\n",
      "files written to littlerock\n"
     ]
    }
   ],
   "source": [
    "write_soundings(values, 'littlerock')"
   ]
  },
  {
   "cell_type": "markdown",
   "metadata": {},
   "source": [
    "# Read the soundings back into python"
   ]
  },
  {
   "cell_type": "code",
   "execution_count": 6,
   "metadata": {},
   "outputs": [],
   "source": [
    "soundings= read_soundings('soundingdir')"
   ]
  },
  {
   "cell_type": "markdown",
   "metadata": {},
   "source": [
    "# Examine the nested dictionaries inside soundings"
   ]
  },
  {
   "cell_type": "code",
   "execution_count": 7,
   "metadata": {},
   "outputs": [
    {
     "name": "stdout",
     "output_type": "stream",
     "text": [
      "soundings keys: ['filelist', 'attributes', 'input_args', 'file_dict', 'sounding_dict']\n",
      " soundings attributes: ['units', 'site_id', 'latitude', 'longitude', 'elevation', 'header', 'history']\n",
      " sounding_dict keys: [(2012, 3, 1, 0), (2012, 3, 1, 12), (2012, 3, 2, 0), (2012, 3, 2, 12), (2012, 3, 2, 18), (2012, 3, 3, 0), (2012, 3, 3, 12), (2012, 3, 4, 0), (2012, 3, 4, 12), (2012, 3, 5, 0), (2012, 3, 5, 12), (2012, 3, 6, 0), (2012, 3, 6, 12), (2012, 3, 7, 0), (2012, 3, 7, 12), (2012, 3, 8, 0), (2012, 3, 8, 12), (2012, 3, 9, 0), (2012, 3, 9, 12), (2012, 3, 10, 0), (2012, 3, 10, 12), (2012, 3, 11, 0), (2012, 3, 11, 12), (2012, 3, 12, 0), (2012, 3, 12, 12), (2012, 3, 13, 0), (2012, 3, 13, 12), (2012, 3, 14, 0), (2012, 3, 14, 12), (2012, 3, 15, 0), (2012, 3, 15, 12), (2012, 3, 16, 0), (2012, 3, 16, 12), (2012, 3, 17, 0), (2012, 3, 17, 12), (2012, 3, 18, 0)]\n"
     ]
    }
   ],
   "source": [
    "print((f'soundings keys: {list(soundings.keys())}\\n'),\n",
    "      (f'soundings attributes: {list(soundings[\"attributes\"])}\\n'),\n",
    "      (f'sounding_dict keys: {list(soundings[\"sounding_dict\"].keys())}'))"
   ]
  },
  {
   "cell_type": "markdown",
   "metadata": {},
   "source": [
    "# Get the first sounding"
   ]
  },
  {
   "cell_type": "code",
   "execution_count": 8,
   "metadata": {},
   "outputs": [
    {
     "name": "stdout",
     "output_type": "stream",
     "text": [
      "Index(['Unnamed: 0', 'pres', 'hght', 'temp', 'dwpt', 'relh', 'mixr', 'drct',\n",
      "       'sknt', 'thta', 'thte', 'thtv'],\n",
      "      dtype='object')\n"
     ]
    }
   ],
   "source": [
    "target_date=list(soundings['sounding_dict'].keys())[0]\n",
    "the_sounding = soundings['sounding_dict'][target_date]\n",
    "print(the_sounding.columns)"
   ]
  },
  {
   "cell_type": "markdown",
   "metadata": {},
   "source": [
    "# Plot it"
   ]
  },
  {
   "cell_type": "code",
   "execution_count": 9,
   "metadata": {},
   "outputs": [
    {
     "data": {
      "image/png": "[encoded data removed]",
      "text/plain": [
       "<matplotlib.figure.Figure at 0x11d500978>"
      ]
     },
     "metadata": {},
     "output_type": "display_data"
    }
   ],
   "source": [
    "%matplotlib inline\n",
    "m2km=1.e-3  #convert meters to km\n",
    "fig,ax=plt.subplots(1,1,figsize=(8,10))\n",
    "ax.plot(the_sounding['temp'],the_sounding['hght']*m2km,label='temp')\n",
    "ax.plot(the_sounding['dwpt'],the_sounding['hght']*m2km,label='dewpoint')\n",
    "ax.legend()\n",
    "out=ax.set(xlabel=\"temperature (K)\",ylabel=\"height (km)\",\n",
    "      title =\"First sounding\")\n",
    "ax.grid(True)"
   ]
  },
  {
   "cell_type": "code",
   "execution_count": null,
   "metadata": {},
   "outputs": [],
   "source": []
  }
 ],
 "metadata": {
  "kernelspec": {
   "display_name": "Python 3",
   "language": "python",
   "name": "python3"
  },
  "language_info": {
   "codemirror_mode": {
    "name": "ipython",
    "version": 3
   },
   "file_extension": ".py",
   "mimetype": "text/x-python",
   "name": "python",
   "nbconvert_exporter": "python",
   "pygments_lexer": "ipython3",
   "version": "3.6.4"
  },
  "toc": {
   "nav_menu": {},
   "number_sections": true,
   "sideBar": false,
   "skip_h1_title": false,
   "toc_cell": true,
   "toc_position": {},
   "toc_section_display": "block",
   "toc_window_display": false
  }
 },
 "nbformat": 4,
 "nbformat_minor": 2
}
