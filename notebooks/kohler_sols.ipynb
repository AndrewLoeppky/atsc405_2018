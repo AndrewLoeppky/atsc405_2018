{
 "cells": [
  {
   "cell_type": "markdown",
   "metadata": {
    "toc": true
   },
   "source": [
    "<h1>Table of Contents<span class=\"tocSkip\"></span></h1>\n",
    "<div class=\"toc\" style=\"margin-top: 1em;\"><ul class=\"toc-item\"><li><span><a href=\"#Kohler-problem-solutions\" data-toc-modified-id=\"Kohler-problem-solutions-1\"><span class=\"toc-item-num\">1&nbsp;&nbsp;</span>Kohler problem solutions</a></span><ul class=\"toc-item\"><li><span><a href=\"#Taylor-series\" data-toc-modified-id=\"Taylor-series-1.1\"><span class=\"toc-item-num\">1.1&nbsp;&nbsp;</span>Taylor series</a></span></li><li><span><a href=\"#Numbers-for-dropped-terms\" data-toc-modified-id=\"Numbers-for-dropped-terms-1.2\"><span class=\"toc-item-num\">1.2&nbsp;&nbsp;</span>Numbers for dropped terms</a></span></li><li><span><a href=\"#Surface-energy-vs.-latent-heat\" data-toc-modified-id=\"Surface-energy-vs.-latent-heat-1.3\"><span class=\"toc-item-num\">1.3&nbsp;&nbsp;</span>Surface energy vs. latent heat</a></span></li></ul></li></ul></div>"
   ]
  },
  {
   "cell_type": "markdown",
   "metadata": {},
   "source": [
    "# Kohler problem solutions\n",
    "\n",
    "## Taylor series\n",
    "\n",
    "Show using two Taylor series expansions how to get  Lohmann 6.24:\n",
    "\n",
    "$S= a_w \\exp \\left [ \\frac{2\\sigma}{\\rho_l R_v T r} \\right ] \\approx \\left ( 1 + \\frac{a}{r} - \\frac{b}{r^3} \\right )$\n",
    "\n",
    "\n",
    "**First taylor series:**\n",
    "\n",
    "$a_w = \\left ( \\frac{n_w}{n_w + n_s} \\right ) = \\left ( \\frac{1}{1 + n_s/n_w} \\right ) = (1 + n_s/n_w)^{-1}$\n",
    "\n",
    "If $n_s/n_w  = x \\ll 1$  then expand $(1 + x)^{-1}$ in a Taylor series about x=0:\n",
    "\n",
    "$f^\\prime (0) = -(1 + 0 )^{-2} = -1$, $f^{\\prime \\prime} (0) = 2 ( 1 + 0 )^{-3} = 2$\n",
    "\n",
    "so $(1 + x)^{-1} \\approx 1 - x + 2x^2/2 + \\ldots$\n",
    "\n",
    "**Second taylor series:**\n",
    "\n",
    "$\\exp \\left [ \\frac{2\\sigma}{\\rho_l R_v T r} \\right ] = \\exp \\left ( \\frac{a}{r} \\right ) = \\exp(y)$\n",
    "\n",
    "if $y \\ll 1$ then expand exp in a taylor series about y=0:\n",
    "\n",
    "$f^\\prime (0) =\\exp(0) = 1$\n",
    "\n",
    "$f^{\\prime \\prime}(0) = 1$\n",
    "\n",
    "so $\\exp(y) \\approx 1 + y  + y^2/2 + \\ldots$\n",
    "\n",
    "**Combining: **\n",
    "\n",
    "$a_w \\exp \\left [ \\frac{2\\sigma}{\\rho_l R_v T r} \\right ] \\approx (1 - x + x^2 )(1 + y + y^2/2) = 1 + y - x + y^2/2 + x^2 + \\ldots$\n",
    "\n",
    "and keeping only first order terms:\n",
    "\n",
    "$S = 1 + y - x = 1 + \\frac{a}{r} - n_s/n_w$\n",
    "\n",
    "and since $n_w \\propto r^3$: $S = 1 + y - x = 1 + \\frac{a}{r} - \\frac{b}{r^3}$\n",
    "\n",
    "where we've dropped all terms of order $xy$ or higher, i.e. we've dropped\n",
    "\n",
    "$\\frac{ab}{r^4}$\n",
    "\n",
    "\n"
   ]
  },
  {
   "cell_type": "markdown",
   "metadata": {},
   "source": [
    "## Numbers for dropped terms\n",
    "\n",
    "For the aerosol defined in the kohler.ipynb notebook ($10^{-19}$ kg, ammonium sulphate), inside a droplet of radius $r=1\\ \\mu m$\n",
    "      find the size of the smallest term you've kept (either $\\frac{a}{r}$ or $\\frac{b}{r^3}$ and compare it to\n",
    "      the size of the largest term you've dropped.   Repeat this for a droplet of radius   $r=0.1\\ \\mu m$\n",
    "\n"
   ]
  },
  {
   "cell_type": "code",
   "execution_count": 1,
   "metadata": {},
   "outputs": [
    {
     "name": "stdout",
     "output_type": "stream",
     "text": [
      "kelvin term = 1.128e-03 vs raoult term 9.766e-06 for radius=  1.00 microns\n",
      "largest term dropped is: 1.102e-08\n",
      "kelvin term = 1.128e-02 vs raoult term 9.766e-03 for radius=  0.10 microns\n",
      "largest term dropped is: 1.102e-04\n",
      "kelvin term = 1.128e-01 vs raoult term 9.766e+00 for radius=  0.01 microns\n",
      "largest term dropped is: 1.102e+00\n"
     ]
    }
   ],
   "source": [
    "from a405.thermo.constants import constants as c\n",
    "import numpy as np\n",
    "\n",
    "def find_terms(r):\n",
    "    Tinit=c.Tc + 15 #Temperature K\n",
    "    Ms=132 #ammonium sulphae kg/Kmole\n",
    "    Mw=18. #water kg/Kmole\n",
    "    Sigma=0.075  #N/m\n",
    "    vanHoff=3. #van hoff for ammonium bisulphate\n",
    "    #calculate kohler coefficients:\n",
    "    a=(2.*Sigma)/(c.Rv*Tinit*c.rhol)  #curvature term\n",
    "    mass_aero = 1.e-19  #kg\n",
    "    b=(vanHoff*Mw)/((4./3.)*np.pi*c.rhol*Ms)*mass_aero   #solution term\n",
    "    kv=a/r\n",
    "    rt=b/(r**3.)\n",
    "    dropped= kv*rt\n",
    "    return kv,rt ,dropped\n",
    "\n",
    "def template(kelvin_term,raoult_term,radius,dropped):\n",
    "    out=(f'kelvin term = {kelvin_term:8.3e} vs '\n",
    "       f'raoult term {raoult_term:8.3e} for ' \n",
    "       f'radius= {radius*1.e6:5.2f} microns\\n'\n",
    "       f'largest term dropped is: {dropped:8.3e}')\n",
    "    return out\n",
    "\n",
    "\n",
    "for radius in [1.e-6,1.e-7,1.e-8]:\n",
    "    kelvin_term,raoult_term, dropped=find_terms(radius)\n",
    "    print(template(kelvin_term,raoult_term,radius, dropped))"
   ]
  },
  {
   "cell_type": "markdown",
   "metadata": {},
   "source": [
    "So don't use the Taylor series expansion for very small droplets"
   ]
  },
  {
   "cell_type": "markdown",
   "metadata": {
    "collapsed": true
   },
   "source": [
    "## Surface energy vs. latent heat\n",
    "\n",
    "Suppose you have $r_l$ =1 g/kg of liquid water spread among N spherical drops of radius 10 $\\mu m$.  Compare the surface energy of this\n",
    "      population (which we've been neglecting) with the enthalpy required to vaporize it:  $l_v r_l$.  Is it negligible in comparison?\n",
    "\n"
   ]
  },
  {
   "cell_type": "code",
   "execution_count": 2,
   "metadata": {},
   "outputs": [
    {
     "name": "stdout",
     "output_type": "stream",
     "text": [
      "there are N=2.39e+08 drops/kg\n",
      "surface_energy  0.023 J/kg, vapor_energy 2501.000 J/kg\n"
     ]
    }
   ],
   "source": [
    "sigma = 0.075\n",
    "rhol=1000\n",
    "rl=1.e-3\n",
    "r=1.e-5\n",
    "N = rl/(4./3.*np.pi*r**3.*rhol)\n",
    "surface_energy = N*sigma*4*np.pi*r**2.\n",
    "vapor_energy = c.lv0*rl\n",
    "print('there are N={:6.3g} drops/kg'.format(N))\n",
    "print('surface_energy {:6.3f} J/kg, bulk enthalpy of evaporation {:6.3f} J/kg'.format(surface_energy,vapor_energy))\n"
   ]
  },
  {
   "cell_type": "code",
   "execution_count": null,
   "metadata": {},
   "outputs": [],
   "source": []
  }
 ],
 "metadata": {
  "kernelspec": {
   "display_name": "Python 3",
   "language": "python",
   "name": "python3"
  },
  "language_info": {
   "codemirror_mode": {
    "name": "ipython",
    "version": 3
   },
   "file_extension": ".py",
   "mimetype": "text/x-python",
   "name": "python",
   "nbconvert_exporter": "python",
   "pygments_lexer": "ipython3",
   "version": "3.6.4"
  },
  "toc": {
   "nav_menu": {},
   "number_sections": true,
   "sideBar": false,
   "skip_h1_title": false,
   "toc_cell": true,
   "toc_position": {},
   "toc_section_display": "block",
   "toc_window_display": false
  }
 },
 "nbformat": 4,
 "nbformat_minor": 1
}
