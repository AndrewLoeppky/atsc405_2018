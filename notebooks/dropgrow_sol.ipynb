{
 "cells": [
  {
   "cell_type": "markdown",
   "metadata": {
    "toc": true
   },
   "source": [
    "<h1>Table of Contents<span class=\"tocSkip\"></span></h1>\n",
    "<div class=\"toc\" style=\"margin-top: 1em;\"><ul class=\"toc-item\"><li><span><a href=\"#Use-a405.dropgrow.aerolib-to-find-equilibrium-drop-radii\" data-toc-modified-id=\"Use-a405.dropgrow.aerolib-to-find-equilibrium-drop-radii-1\"><span class=\"toc-item-num\">1&nbsp;&nbsp;</span>Use a405.dropgrow.aerolib to find equilibrium drop radii</a></span></li><li><span><a href=\"#Read-in-the-inital-conditions-from-a-json-file\" data-toc-modified-id=\"Read-in-the-inital-conditions-from-a-json-file-2\"><span class=\"toc-item-num\">2&nbsp;&nbsp;</span>Read in the inital conditions from a json file</a></span></li><li><span><a href=\"#Calculate-the-lognormal-aerosol-mass-distribution-and-get-the-number-concentration-in-each-of-30-bins\" data-toc-modified-id=\"Calculate-the-lognormal-aerosol-mass-distribution-and-get-the-number-concentration-in-each-of-30-bins-3\"><span class=\"toc-item-num\">3&nbsp;&nbsp;</span>Calculate the lognormal aerosol mass distribution and get the number concentration in each of 30 bins</a></span><ul class=\"toc-item\"><li><span><a href=\"#Find-the-number-of-aerosols-in-each-bin\" data-toc-modified-id=\"Find-the-number-of-aerosols-in-each-bin-3.1\"><span class=\"toc-item-num\">3.1&nbsp;&nbsp;</span>Find the number of aerosols in each bin</a></span></li><li><span><a href=\"#Find-the-equilibrium-radius-for-each-of-the-30-aerosol-masses\" data-toc-modified-id=\"Find-the-equilibrium-radius-for-each-of-the-30-aerosol-masses-3.2\"><span class=\"toc-item-num\">3.2&nbsp;&nbsp;</span>Find the equilibrium radius for each of the 30 aerosol masses</a></span><ul class=\"toc-item\"><li><span><a href=\"#Calculating-the-equilibrium-size-distribution-for-unactivated-aerosols\" data-toc-modified-id=\"Calculating-the-equilibrium-size-distribution-for-unactivated-aerosols-3.2.1\"><span class=\"toc-item-num\">3.2.1&nbsp;&nbsp;</span>Calculating the equilibrium size distribution for unactivated aerosols</a></span></li></ul></li></ul></li></ul></div>"
   ]
  },
  {
   "cell_type": "markdown",
   "metadata": {},
   "source": [
    "# Use a405.dropgrow.aerolib to find equilibrium drop radii"
   ]
  },
  {
   "cell_type": "code",
   "execution_count": 1,
   "metadata": {},
   "outputs": [],
   "source": [
    "import a405.dropgrow.aerolib\n",
    "#\n",
    "# new library for aerosol functions\n",
    "#\n",
    "from a405.dropgrow.aerolib import lognormal,create_koehler,find_koehler_coeffs\n",
    "import numpy as np\n",
    "from a405.utils.helper_funs import make_tuple, find_centers\n",
    "from a405.thermo.rootfinder import find_interval, fzero\n",
    "import json\n",
    "import importlib_resources as ir  #pip install importlib_resources\n",
    "import pandas as pd\n",
    "#\n",
    "# load pprint to print the yaml input\n",
    "#\n",
    "import pprint\n",
    "pp = pprint.PrettyPrinter(indent=4)\n"
   ]
  },
  {
   "cell_type": "markdown",
   "metadata": {},
   "source": [
    "# Read in the inital conditions from a json file\n"
   ]
  },
  {
   "cell_type": "code",
   "execution_count": 2,
   "metadata": {},
   "outputs": [
    {
     "name": "stdout",
     "output_type": "stream",
     "text": [
      "{   'aerosol': {   'Ms': 114,\n",
      "                   'Mw': 18.0,\n",
      "                   'Sigma': 0.075,\n",
      "                   'rhoaero': 1775,\n",
      "                   'sd': 1.7,\n",
      "                   'themean': 2e-17,\n",
      "                   'totmass': 1.5e-09,\n",
      "                   'vanHoff': 2.0},\n",
      "    'dir_name': 'dump_run',\n",
      "    'dump_output': True,\n",
      "    'initial_conditions': {   'Pinit': 90000.0,\n",
      "                              'Sinit': 0.995,\n",
      "                              'Tinit': 280.0,\n",
      "                              'Zinit': 1000.0,\n",
      "                              'wvel': 0.5},\n",
      "    'integration': {'dt': 1, 'tend': 200, 'tstart': 0},\n",
      "    'output_file': 'outfile.csv'}\n"
     ]
    }
   ],
   "source": [
    "#\n",
    "# use the importlib_resources module to \n",
    "# find the path to the data folder.  The file\n",
    "# is located at a405/data/dropgrow.json\n",
    "#\n",
    "with ir.open_text('a405.data','dropgrow.json') as f:\n",
    "    input_dict=json.load(f)\n",
    "pp.pprint(input_dict)"
   ]
  },
  {
   "cell_type": "markdown",
   "metadata": {},
   "source": [
    "# Calculate the lognormal aerosol mass distribution and get the number concentration in each of 30 bins\n",
    "\n",
    "(code borrowed from aero.ipynb)\n",
    "\n",
    "## Find the number of aerosols in each bin"
   ]
  },
  {
   "cell_type": "code",
   "execution_count": 3,
   "metadata": {},
   "outputs": [],
   "source": [
    "mass_vals = np.linspace(-20,-16,30)\n",
    "mass_vals = 10**mass_vals\n",
    "mu=input_dict['aerosol']['themean']\n",
    "sigma = input_dict['aerosol']['sd']\n",
    "totmass = input_dict['aerosol']['totmass']\n",
    "mdist = totmass*lognormal(mass_vals,np.log(mu),np.log(sigma))\n",
    "mdist = find_centers(mdist)*np.diff(mass_vals)\n",
    "center_mass = find_centers(mass_vals)\n",
    "ndist = mdist/center_mass"
   ]
  },
  {
   "cell_type": "markdown",
   "metadata": {},
   "source": [
    "## Find the equilibrium radius for each of the 30 aerosol masses\n",
    "\n",
    "(code borrowed from koehler.ipynb)\n",
    "\n",
    "First make two debugging print functions ('info' and 'g') to easily print various floating point values."
   ]
  },
  {
   "cell_type": "code",
   "execution_count": 4,
   "metadata": {},
   "outputs": [
    {
     "name": "stdout",
     "output_type": "stream",
     "text": [
      "debugging 10 1.55e-23\n"
     ]
    }
   ],
   "source": [
    "def make_format(format_string=\"{:8.3g}\"):\n",
    "    \"\"\"\n",
    "    returns a function that formats with format_string\n",
    "    \"\"\"\n",
    "    def inner_fun(value):\n",
    "        return format_string.format(value)\n",
    "    return inner_fun\n",
    "\n",
    "#Now get closures from make_format and use it:\n",
    "\n",
    "g = make_format()\n",
    "info = make_format(format_string=\"debugging {}\")\n",
    "\n",
    "a=10\n",
    "b=1.546e-23\n",
    "print(info(a), g(b))\n"
   ]
  },
  {
   "cell_type": "markdown",
   "metadata": {},
   "source": [
    "### Calculating the equilibrium size distribution for unactivated aerosols\n",
    "\n",
    "Below we use the rootfinder to search on log(radius) to find the equilibrium\n",
    "drop size for unactivaed aerosols on the left side of their Koehler curves"
   ]
  },
  {
   "cell_type": "code",
   "execution_count": 5,
   "metadata": {},
   "outputs": [
    {
     "name": "stdout",
     "output_type": "stream",
     "text": [
      "for aerosol with mass = 1e-18 kg, SScrit,rcrit are  0.00175,    0.441 microns\n"
     ]
    }
   ],
   "source": [
    "aero=make_tuple(input_dict['aerosol'])\n",
    "parcel=make_tuple(input_dict['initial_conditions'])\n",
    "\n",
    "a, b = find_koehler_coeffs(aero,parcel)\n",
    "\n",
    "#\n",
    "# sanity check\n",
    "#\n",
    "m=1.e-18\n",
    "Scrit=(4.*a**3./(27.*b*m))**0.5;\n",
    "rcrit = (3.*m*b/a)**0.5\n",
    "print((\"for aerosol with mass = {} kg, \"\n",
    "       \"SScrit,rcrit are {:8.3g}, {:8.3g} microns\")\n",
    "        .format(m,Scrit,rcrit*1.e6))\n"
   ]
  },
  {
   "cell_type": "code",
   "execution_count": 6,
   "metadata": {},
   "outputs": [
    {
     "name": "stdout",
     "output_type": "stream",
     "text": [
      "mass = 1.19e-20 kg\n",
      "left bracket = 6.194e-01 microns\n",
      "right bracket=1.615e-02 microns\n",
      "critical supersaturation: 0.0161\n",
      "equlibrium radius at S=0.995 is 0.026 microns\n",
      "\n",
      "mass = 1.63e-20 kg\n",
      "left bracket = 3.631e-01 microns\n",
      "right bracket=2.754e-02 microns\n",
      "critical supersaturation: 0.0137\n",
      "equlibrium radius at S=0.995 is 0.030 microns\n",
      "\n",
      "mass = 2.24e-20 kg\n",
      "left bracket = 3.631e-01 microns\n",
      "right bracket=2.754e-02 microns\n",
      "critical supersaturation: 0.0117\n",
      "equlibrium radius at S=0.995 is 0.035 microns\n",
      "\n",
      "mass = 3.08e-20 kg\n",
      "left bracket = 2.489e-01 microns\n",
      "right bracket=4.018e-02 microns\n",
      "critical supersaturation: 0.00999\n",
      "equlibrium radius at S=0.995 is 0.041 microns\n",
      "\n",
      "mass = 4.23e-20 kg\n",
      "left bracket = 2.489e-01 microns\n",
      "right bracket=4.018e-02 microns\n",
      "critical supersaturation: 0.00853\n",
      "equlibrium radius at S=0.995 is 0.047 microns\n",
      "\n",
      "mass = 5.81e-20 kg\n",
      "left bracket = 1.905e-01 microns\n",
      "right bracket=5.248e-02 microns\n",
      "critical supersaturation: 0.00727\n",
      "equlibrium radius at S=0.995 is 0.055 microns\n",
      "\n",
      "mass = 7.98e-20 kg\n",
      "left bracket = 1.578e-01 microns\n",
      "right bracket=6.339e-02 microns\n",
      "critical supersaturation: 0.00621\n",
      "equlibrium radius at S=0.995 is 0.063 microns\n",
      "\n",
      "mass = 1.1e-19 kg\n",
      "left bracket = 1.578e-01 microns\n",
      "right bracket=6.339e-02 microns\n",
      "critical supersaturation: 0.0053\n",
      "equlibrium radius at S=0.995 is 0.073 microns\n",
      "\n",
      "mass = 1.51e-19 kg\n",
      "left bracket = 1.578e-01 microns\n",
      "right bracket=6.339e-02 microns\n",
      "critical supersaturation: 0.00452\n",
      "equlibrium radius at S=0.995 is 0.084 microns\n",
      "\n",
      "mass = 2.07e-19 kg\n",
      "left bracket = 1.578e-01 microns\n",
      "right bracket=6.339e-02 microns\n",
      "critical supersaturation: 0.00385\n",
      "equlibrium radius at S=0.995 is 0.097 microns\n",
      "\n",
      "mass = 2.84e-19 kg\n",
      "left bracket = 1.578e-01 microns\n",
      "right bracket=6.339e-02 microns\n",
      "critical supersaturation: 0.00329\n",
      "equlibrium radius at S=0.995 is 0.111 microns\n",
      "\n",
      "mass = 3.91e-19 kg\n",
      "left bracket = 1.578e-01 microns\n",
      "right bracket=6.339e-02 microns\n",
      "critical supersaturation: 0.00281\n",
      "equlibrium radius at S=0.995 is 0.127 microns\n",
      "\n",
      "mass = 5.37e-19 kg\n",
      "left bracket = 1.578e-01 microns\n",
      "right bracket=6.339e-02 microns\n",
      "critical supersaturation: 0.00239\n",
      "equlibrium radius at S=0.995 is 0.146 microns\n",
      "\n",
      "mass = 7.37e-19 kg\n",
      "left bracket = 1.905e-01 microns\n",
      "right bracket=5.248e-02 microns\n",
      "critical supersaturation: 0.00204\n",
      "equlibrium radius at S=0.995 is 0.166 microns\n",
      "\n",
      "mass = 1.01e-18 kg\n",
      "left bracket = 1.905e-01 microns\n",
      "right bracket=5.248e-02 microns\n",
      "critical supersaturation: 0.00174\n",
      "equlibrium radius at S=0.995 is 0.190 microns\n",
      "\n",
      "mass = 1.39e-18 kg\n",
      "left bracket = 2.489e-01 microns\n",
      "right bracket=4.018e-02 microns\n",
      "critical supersaturation: 0.00149\n",
      "equlibrium radius at S=0.995 is 0.216 microns\n",
      "\n",
      "mass = 1.91e-18 kg\n",
      "left bracket = 2.489e-01 microns\n",
      "right bracket=4.018e-02 microns\n",
      "critical supersaturation: 0.00127\n",
      "equlibrium radius at S=0.995 is 0.245 microns\n",
      "\n",
      "mass = 2.63e-18 kg\n",
      "left bracket = 3.631e-01 microns\n",
      "right bracket=2.754e-02 microns\n",
      "critical supersaturation: 0.00108\n",
      "equlibrium radius at S=0.995 is 0.278 microns\n",
      "\n",
      "mass = 3.61e-18 kg\n",
      "left bracket = 3.631e-01 microns\n",
      "right bracket=2.754e-02 microns\n",
      "critical supersaturation: 0.000923\n",
      "equlibrium radius at S=0.995 is 0.315 microns\n",
      "\n",
      "mass = 4.96e-18 kg\n",
      "left bracket = 3.631e-01 microns\n",
      "right bracket=2.754e-02 microns\n",
      "critical supersaturation: 0.000788\n",
      "equlibrium radius at S=0.995 is 0.356 microns\n",
      "\n",
      "mass = 6.81e-18 kg\n",
      "left bracket = 6.194e-01 microns\n",
      "right bracket=1.615e-02 microns\n",
      "critical supersaturation: 0.000672\n",
      "equlibrium radius at S=0.995 is 0.401 microns\n",
      "\n",
      "mass = 9.35e-18 kg\n",
      "left bracket = 6.194e-01 microns\n",
      "right bracket=1.615e-02 microns\n",
      "critical supersaturation: 0.000573\n",
      "equlibrium radius at S=0.995 is 0.453 microns\n",
      "\n",
      "mass = 1.28e-17 kg\n",
      "left bracket = 6.194e-01 microns\n",
      "right bracket=1.615e-02 microns\n",
      "critical supersaturation: 0.000489\n",
      "equlibrium radius at S=0.995 is 0.510 microns\n",
      "\n",
      "mass = 1.77e-17 kg\n",
      "left bracket = 6.194e-01 microns\n",
      "right bracket=1.615e-02 microns\n",
      "critical supersaturation: 0.000417\n",
      "equlibrium radius at S=0.995 is 0.573 microns\n",
      "\n",
      "mass = 2.43e-17 kg\n",
      "left bracket = 1.318e+00 microns\n",
      "right bracket=7.586e-03 microns\n",
      "critical supersaturation: 0.000356\n",
      "equlibrium radius at S=0.995 is 0.644 microns\n",
      "\n",
      "mass = 3.33e-17 kg\n",
      "left bracket = 1.318e+00 microns\n",
      "right bracket=7.586e-03 microns\n",
      "critical supersaturation: 0.000304\n",
      "equlibrium radius at S=0.995 is 0.723 microns\n",
      "\n",
      "mass = 4.58e-17 kg\n",
      "left bracket = 1.318e+00 microns\n",
      "right bracket=7.586e-03 microns\n",
      "critical supersaturation: 0.000259\n",
      "equlibrium radius at S=0.995 is 0.811 microns\n",
      "\n",
      "mass = 6.29e-17 kg\n",
      "left bracket = 1.318e+00 microns\n",
      "right bracket=7.586e-03 microns\n",
      "critical supersaturation: 0.000221\n",
      "equlibrium radius at S=0.995 is 0.909 microns\n",
      "\n",
      "mass = 8.64e-17 kg\n",
      "left bracket = 1.318e+00 microns\n",
      "right bracket=7.586e-03 microns\n",
      "critical supersaturation: 0.000189\n",
      "equlibrium radius at S=0.995 is 1.018 microns\n",
      "\n"
     ]
    }
   ],
   "source": [
    "koehler_fun = create_koehler(aero,parcel)\n",
    "\n",
    "def find_diff(logr,S_target,m):\n",
    "    \"\"\"\n",
    "    zero function for rootfinder\n",
    "    \"\"\"\n",
    "    r = np.exp(logr)\n",
    "    return S_target - koehler_fun(r,m)\n",
    "\n",
    "S_target = parcel.Sinit\n",
    "logr_start = np.log(0.1e-6)\n",
    "\n",
    "initial_radius = []\n",
    "for mass in center_mass:\n",
    "    brackets = np.array(find_interval(find_diff,logr_start,S_target,mass))\n",
    "    left_bracket, right_bracket = np.exp(brackets)*1.e6  #get brackets in microns for printing\n",
    "    equil_rad = np.exp(fzero(find_diff,brackets,S_target,mass))\n",
    "    \n",
    "    Scrit=(4.*a**3./(27.*b*mass))**0.5\n",
    "    \n",
    "    initial_radius.append(equil_rad)\n",
    "    print((f'mass = {mass:6.3g} kg\\n'\n",
    "           f'left bracket = {left_bracket:8.3e} microns\\n'\n",
    "           f'right bracket={right_bracket:8.3e} microns\\n'\n",
    "           f'critical supersaturation: {Scrit:6.3g}'))\n",
    "    print(f'equlibrium radius at S={S_target} is {equil_rad*1.e6:5.3f} microns\\n')\n",
    "   \n"
   ]
  },
  {
   "cell_type": "code",
   "execution_count": 7,
   "metadata": {},
   "outputs": [],
   "source": [
    "from a405.thermo.constants import constants as c\n",
    "import matplotlib.pyplot as plt\n",
    "\n",
    "def find_vols(aerosol_mass,drop_radius):\n",
    "    aero_vol = aerosol_mass/aero.rhoaero\n",
    "    drop_vol = 4./3.*np.pi*drop_radius**3.\n",
    "    water_vol = drop_vol - aero_vol\n",
    "    return (aero_vol,water_vol)\n",
    "\n",
    "def find_ratios(aerosol_mass,aero_vol,water_vol):\n",
    "    total_vol = water_vol + aero_vol\n",
    "    ns = aerosol_mass/aero.Mw\n",
    "    nw_exact = water_vol*c.rhol/aero.Mw\n",
    "    nw_approx = total_vol*c.rhol/aero.Mw\n",
    "    return (ns/nw_approx, ns/nw_exact)\n",
    "    \n",
    "paired_vals = zip(center_mass,initial_radius) \n",
    "ratios = []\n",
    "for mass,radius in paired_vals:\n",
    "    aero_vol, water_vol = find_vols(mass,radius)\n",
    "    approx_ratio,exact_ratio = find_ratios(mass,aero_vol,water_vol)\n",
    "    ratios.append((approx_ratio,exact_ratio))\n",
    "df_out = pd.DataFrame.from_records(ratios,columns=['approx','exact'])"
   ]
  },
  {
   "cell_type": "code",
   "execution_count": 8,
   "metadata": {},
   "outputs": [
    {
     "data": {
      "image/png": "[encoded data removed]",
      "text/plain": [
       "<matplotlib.figure.Figure at 0x10cc14b00>"
      ]
     },
     "metadata": {},
     "output_type": "display_data"
    }
   ],
   "source": [
    "fig, (ax0, ax1) = plt.subplots(1,2,figsize=(13,8))\n",
    "ax0.plot('exact',label='exact',data=df_out)\n",
    "ax0.plot('approx',label='approx',data=df_out)\n",
    "ax0.legend()\n",
    "ax1.plot((df_out['exact'] - df_out['approx'])/df_out['exact'],label='fractional error')\n",
    "ax1.legend()\n",
    "ax1.set(xlabel='bin number',ylabel='$n_s/n_w$')\n",
    "out=ax1.set(xlabel='bin number',ylabel='(exact - approx)/exact')"
   ]
  }
 ],
 "metadata": {
  "kernelspec": {
   "display_name": "Python 3",
   "language": "python",
   "name": "python3"
  },
  "language_info": {
   "codemirror_mode": {
    "name": "ipython",
    "version": 3
   },
   "file_extension": ".py",
   "mimetype": "text/x-python",
   "name": "python",
   "nbconvert_exporter": "python",
   "pygments_lexer": "ipython3",
   "version": "3.6.4"
  },
  "toc": {
   "nav_menu": {},
   "number_sections": true,
   "sideBar": false,
   "skip_h1_title": false,
   "toc_cell": true,
   "toc_position": {},
   "toc_section_display": "block",
   "toc_window_display": false
  }
 },
 "nbformat": 4,
 "nbformat_minor": 1
}
